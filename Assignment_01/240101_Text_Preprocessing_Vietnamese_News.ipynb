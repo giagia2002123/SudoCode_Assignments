{
  "cells": [
    {
      "cell_type": "markdown",
      "source": [
        "Name: Ngo Trieu Gia Gia\n",
        "\n",
        "ID: 240101"
      ],
      "metadata": {
        "id": "POfbaI-rug_z"
      }
    },
    {
      "cell_type": "code",
      "execution_count": null,
      "metadata": {
        "colab": {
          "base_uri": "https://localhost:8080/"
        },
        "id": "ls2_zaV-hsyJ",
        "outputId": "813c05b5-f027-470e-fb22-f8000bd113de"
      },
      "outputs": [
        {
          "output_type": "stream",
          "name": "stdout",
          "text": [
            "Collecting underthesea\n",
            "  Downloading underthesea-6.8.4-py3-none-any.whl.metadata (15 kB)\n",
            "Requirement already satisfied: Click>=6.0 in /usr/local/lib/python3.10/dist-packages (from underthesea) (8.1.7)\n",
            "Collecting python-crfsuite>=0.9.6 (from underthesea)\n",
            "  Downloading python_crfsuite-0.9.10-cp310-cp310-manylinux_2_17_x86_64.manylinux2014_x86_64.whl.metadata (4.2 kB)\n",
            "Requirement already satisfied: nltk in /usr/local/lib/python3.10/dist-packages (from underthesea) (3.8.1)\n",
            "Requirement already satisfied: tqdm in /usr/local/lib/python3.10/dist-packages (from underthesea) (4.66.5)\n",
            "Requirement already satisfied: requests in /usr/local/lib/python3.10/dist-packages (from underthesea) (2.32.3)\n",
            "Requirement already satisfied: joblib in /usr/local/lib/python3.10/dist-packages (from underthesea) (1.4.2)\n",
            "Requirement already satisfied: scikit-learn in /usr/local/lib/python3.10/dist-packages (from underthesea) (1.3.2)\n",
            "Requirement already satisfied: PyYAML in /usr/local/lib/python3.10/dist-packages (from underthesea) (6.0.2)\n",
            "Collecting underthesea-core==1.0.4 (from underthesea)\n",
            "  Downloading underthesea_core-1.0.4-cp310-cp310-manylinux2010_x86_64.whl.metadata (1.7 kB)\n",
            "Requirement already satisfied: regex>=2021.8.3 in /usr/local/lib/python3.10/dist-packages (from nltk->underthesea) (2024.9.11)\n",
            "Requirement already satisfied: charset-normalizer<4,>=2 in /usr/local/lib/python3.10/dist-packages (from requests->underthesea) (3.3.2)\n",
            "Requirement already satisfied: idna<4,>=2.5 in /usr/local/lib/python3.10/dist-packages (from requests->underthesea) (3.10)\n",
            "Requirement already satisfied: urllib3<3,>=1.21.1 in /usr/local/lib/python3.10/dist-packages (from requests->underthesea) (2.0.7)\n",
            "Requirement already satisfied: certifi>=2017.4.17 in /usr/local/lib/python3.10/dist-packages (from requests->underthesea) (2024.8.30)\n",
            "Requirement already satisfied: numpy<2.0,>=1.17.3 in /usr/local/lib/python3.10/dist-packages (from scikit-learn->underthesea) (1.26.4)\n",
            "Requirement already satisfied: scipy>=1.5.0 in /usr/local/lib/python3.10/dist-packages (from scikit-learn->underthesea) (1.13.1)\n",
            "Requirement already satisfied: threadpoolctl>=2.0.0 in /usr/local/lib/python3.10/dist-packages (from scikit-learn->underthesea) (3.5.0)\n",
            "Downloading underthesea-6.8.4-py3-none-any.whl (20.9 MB)\n",
            "\u001b[2K   \u001b[90m━━━━━━━━━━━━━━━━━━━━━━━━━━━━━━━━━━━━━━━━\u001b[0m \u001b[32m20.9/20.9 MB\u001b[0m \u001b[31m57.3 MB/s\u001b[0m eta \u001b[36m0:00:00\u001b[0m\n",
            "\u001b[?25hDownloading underthesea_core-1.0.4-cp310-cp310-manylinux2010_x86_64.whl (657 kB)\n",
            "\u001b[2K   \u001b[90m━━━━━━━━━━━━━━━━━━━━━━━━━━━━━━━━━━━━━━━━\u001b[0m \u001b[32m657.8/657.8 kB\u001b[0m \u001b[31m32.8 MB/s\u001b[0m eta \u001b[36m0:00:00\u001b[0m\n",
            "\u001b[?25hDownloading python_crfsuite-0.9.10-cp310-cp310-manylinux_2_17_x86_64.manylinux2014_x86_64.whl (1.1 MB)\n",
            "\u001b[2K   \u001b[90m━━━━━━━━━━━━━━━━━━━━━━━━━━━━━━━━━━━━━━━━\u001b[0m \u001b[32m1.1/1.1 MB\u001b[0m \u001b[31m46.6 MB/s\u001b[0m eta \u001b[36m0:00:00\u001b[0m\n",
            "\u001b[?25hInstalling collected packages: underthesea-core, python-crfsuite, underthesea\n",
            "Successfully installed python-crfsuite-0.9.10 underthesea-6.8.4 underthesea-core-1.0.4\n"
          ]
        }
      ],
      "source": [
        "!pip install underthesea"
      ]
    },
    {
      "cell_type": "markdown",
      "metadata": {
        "id": "qAMi6BWUjugH"
      },
      "source": [
        "# Load the Dataset"
      ]
    },
    {
      "cell_type": "code",
      "execution_count": null,
      "metadata": {
        "colab": {
          "base_uri": "https://localhost:8080/"
        },
        "id": "MXRJ96dHj2bk",
        "outputId": "b32cc425-5562-4767-9b29-a54e92baefff"
      },
      "outputs": [
        {
          "output_type": "stream",
          "name": "stdout",
          "text": [
            "Downloading...\n",
            "From (original): https://drive.google.com/uc?id=1AgQwFLOasilkC3aPY8MacBp9QuEpgLzK\n",
            "From (redirected): https://drive.google.com/uc?id=1AgQwFLOasilkC3aPY8MacBp9QuEpgLzK&confirm=t&uuid=1c1aa542-3be3-4623-b3c3-ca9f11c3c20a\n",
            "To: /content/news_dataset.json\n",
            "100% 655M/655M [00:10<00:00, 60.5MB/s]\n"
          ]
        }
      ],
      "source": [
        "!gdown 1AgQwFLOasilkC3aPY8MacBp9QuEpgLzK"
      ]
    },
    {
      "cell_type": "code",
      "execution_count": null,
      "metadata": {
        "colab": {
          "base_uri": "https://localhost:8080/"
        },
        "id": "cRVB8gLEjsOA",
        "outputId": "7b96099f-823b-4fd1-aa4c-c40d068f42d3"
      },
      "outputs": [
        {
          "output_type": "stream",
          "name": "stdout",
          "text": [
            "{'id': 218270, 'author': '', 'content': \"Chiều 31/7, Công an tỉnh Thừa Thiên - Huế đã có thông tin ban đầu về vụ nổ súng,cướp tiệm vàng tại chợ Đông Ba nằm trên đường Trần Hưng Đạo (TP Huế, tỉnh Thừa Thiên - Huế). Thông Sài Gòn Giải Phóng, khoảng 12h30' ngày 31/7, một đối tượng sử dụng súng AK bất ngờ xông vào tiệm vàng Hoàng Đức và Thái Lợi (phía trước chợ Đông Ba) rồi nổ súng chỉ thiên liên tiếp uy hiếp chủ tiệm để cướp vàng. Sau đó, đối tượng mang số vàng vừa cướp được vứt ra vỉa hè rồi đi bộ đến khu vực cầu Gia Hội, cách khu vực gây án khoảng 300m. Giám đốc Công an tỉnh Thừa Thiên – Huế lập tức trực tiếp chỉ đạo các lực lượng chức năng gồm Công an tỉnh và Công an TP Huế nhanh chóng có mặt tại hiện trường triển khai đồng bộ các biện pháp nghiệp vụ, khoanh vùng và ngăn không để người dân đi vào hiện trường. Hàng trăm tiểu thương trong chợ Đông Ba và người dân gần cầu Gia Hội được yêu cầu di chuyển khỏi hiện trường, đóng cửa nhà đề phòng đạn lạc. Tuy nhiên, thấy vàng bị ném ra đường, nhiều người đua nhau nhặt, tạo cảnh nhốn nháo trước cổng chợ. Do đây là khu vực trung tâm TP Huế, đông dân nên để đảm bảo an toàn cho người dân, lực lượng công an đã tìm cách hướng đối tượng ra nhà lục giác tại khu vực Công viên Trịnh Công Sơn (cạnh cầu Gia Hội). Lúc này, đối tượng có biểu hiện kích động muốn tự tử nên Đại tá Phạm Văn Toàn, Trưởng Phòng Cảnh sát hình sự Công an tỉnh Thừa Thiên – Huế và một số đồng chí Công an khác trực tiếp tiếp cận, thuyết phục đối tượng. Đối tượng lại yêu cầu được nói chuyện với Đại tá Đặng Ngọc Sơn, Phó Giám đốc Công an tỉnh. Ngay sau đó, khi được Đại tá Đặng Ngọc Sơn gặp gỡ, động viên, thuyết phục, đối tượng đã đồng ý hạ và giao nộp vũ khí. Theo VnExpress cho biết, tên cướp là Ngô Văn Quốc, 38 tuổi, quân hàm đại úy, công tác tại Trại giam Bình Điền, đóng ở xã Bình Tiến, thị xã Hương Trà. Khẩu súng gây án đã bị thu giữ. Hiện trường hai tiệm vàng bị phong tỏa để công an khám nghiệm. Phía trong nhiều mảnh kính bị vỡ văng vãi khắp nơi. Đông Ba là chợ nổi tiếng và sầm uất nhất TP Huế, nằm bên bờ bắc sông Hương, trên đường Trần Hưng Đạo. Nơi đây thu hút nhiều du khách trong và ngoài nước trong hành trình du lịch Huế. Theo MT (2sao/VietNamNet) https://2sao.vn/ten-cuop-tiem-vang-tai-hue-la-dai-uy-cong-an-cong-tac-tai-trai-giam-n-315312.html Trang Thông tin điện tử Docbao.vn Công ty Cổ phần Quang Minh Việt Nam Giấy phép thiết lập Trang thông tin điện tử tổng hợp trên Internet số 2372/GP-STTTT cấp ngày 29/8/2014. SĐT: 024. 666.40816 Địa chỉ: P604, Tầng 6, Tòa nhà Golden Field, Khu đô thị mới Mỹ Đình 1, phường Cầu Diễn, quận Nam Từ Liêm, Hà Nội Chịu trách nhiệm nội dung: Điều Thị Bích; ĐT: 0903.263.198; Email: docbao@kib.vn Đọc báo trực tuyến hiện tại chỉ sử dụng tên miền duy nhất là docbao.vn; độc giả lưu ý tránh nhầm lẫn. Chính sách bảo mật RSS\", 'picture_count': 3, 'processed': 0, 'source': 'docbao.vn', 'title': 'Tên cướp tiệm vàng tại Huế là đại uý công an, công tác tại Trại giam', 'topic': 'Pháp luật', 'url': 'https://docbao.vn/phap-luat/ten-cuop-tiem-vang-tai-hue-la-dai-uy-cong-an-cong-tac-tai-trai-giam-tintuc834608', 'crawled_at': '2022-08-01 09:09:22.817308'}\n"
          ]
        }
      ],
      "source": [
        "import json\n",
        "\n",
        "# Load the dataset\n",
        "with open('news_dataset.json', 'r', encoding='utf-8') as file:\n",
        "    data = json.load(file)\n",
        "\n",
        "# Inspect the first record to understand the structure\n",
        "print(data[0])\n"
      ]
    },
    {
      "cell_type": "code",
      "execution_count": null,
      "metadata": {
        "id": "0RWP6SUyvSHR"
      },
      "outputs": [],
      "source": [
        "import random\n",
        "\n",
        "# Take a random sample of 2000 news articles for practice\n",
        "sample_size = 2000\n",
        "random.seed(42)\n",
        "sampled_data = random.sample(data, sample_size)"
      ]
    },
    {
      "cell_type": "markdown",
      "metadata": {
        "id": "Tqxsr1uVj-eM"
      },
      "source": [
        "# Basic Preprocessing"
      ]
    },
    {
      "cell_type": "code",
      "execution_count": null,
      "metadata": {
        "colab": {
          "base_uri": "https://localhost:8080/"
        },
        "id": "zXs4L4fLj_by",
        "outputId": "4b9109c2-8100-4ff4-9cce-6419eb486e04"
      },
      "outputs": [
        {
          "output_type": "stream",
          "name": "stdout",
          "text": [
            "nhiễm trùng thận hay còn gọi là viêm đài bể thận một dạng nhiễm trùng thường gặp ở đường tiết niệu bệnh thường gây các cơn đau vùng bụng dưới khu vực dưới hông tiểu rát khó chịu với những bệnh nhân mắc nhiễm trùng thận dạng nhẹ một vài biện pháp điều trị tại nhà có thể giúp cải thiện đáng kể các triệu chứng trên chườm nóng chườm nóng cũng là một liệu pháp nhiệt có tác dụng giảm đau sử dụng túi chườm hoặc một chai nước nóng áp lên vùng bị đau và giữ nguyên trong khoảng  phút đây là một trong những cách giúp giảm cơn đau an toàn hiệu quả tức thì uống nhiều nước uống nhiều nước có thể giúp loại bỏ vi khuẩn ra khỏi cơ thể cải thiện tình trạng nhiễm trùng nhanh hơn nước lọc cũng giúp làm sạch toàn bộ hệ thống tiết niệu giúp ngăn ngừa nguy cơ nhiễm trùng tiểu diễn tiến thành nhiễm trùng thận người bệnh nên uống từ    lít nước mỗi ngày bổ sung vitamin c vitamin c là một chất chống oxy hóa mạnh giúp bảo vệ các mô trong cơ thể khỏi quá trình oxy hóa và tăng cường chức năng thận nghiên cứu tiến hành trên động vật cho thấy vitamin c có thể ngăn ngừa sẹo thận trong nhiễm trùng thận cấp tính và tăng cường các enzym trong thận bạn có thể bổ sung vitamin c thông qua các loại thực phẩm hàng ngày cam ớt chuông kiwi ổi mùi tây bông cải xanh nước ép trái cây nước ép nam việt quất từ lâu đã được sử dụng như một phương pháp giảm bớt tình trạng nhiễm trùng tiểu và nhiễm trùng bàng quang một số bằng chứng cho thấy uống nước ép nam việt quất có thể giúp phòng ngừa nhiễm trùng tiểu nhiều người thích hương vị ngọt ngào của sinh tốt nam việt quất hơn là nước ép tuy nhiên loại nước này cũng chứa nhiều đường nếu bổ sung quá nhiều sẽ không tốt cho người bệnh các sản phẩm bổ sung hoặc nước ép nam việt quất nguyên chất là lựa chọn tốt nhất cho người bị nhiễm trùng thận hàm lượng axit cao trong táo cũng có thể giúp thận duy trì độ axit trong nước tiểu ức chế sự phát triển thêm của vi khuẩn táo cũng có đặc tính chống viêm có lợi trong việc giúp thận chữa lành sau khi nhiễm trùng nước ép mùi tây là thảo dược lợi tiểu giàu chất dinh dưỡng có thể làm tăng tần suất đi tiểu điều này có thể giúp loại bỏ vi khuẩn trong thận nhanh hơn hiệu quả tương tự thuốc kháng sinh nếu không thích mùi vị của mùi tây bạn có thể làm sinh tố kết hợp với các loại trái cây có hương vị mạnh bao gồm cả quả nam việt quất hoặc quả việt quất để có kết quả tốt nhất tránh rượu và cà phê vai trò quan trọng nhất của thận là lọc bỏ các chất độc hại và độc tố trong khi cả rượu và caffein đều có thể khiến thận phải làm việc nhiều hơn điều này có thể cản trở quá trình chữa lành vết thương do nhiễm trùng rượu và thuốc kháng sinh cũng không nên sử dụng song song vì vậy trong thời gian điều trị bệnh có sử dụng thuốc hãy tránh uống rượu tắm muối epsom cả muối epsom tên gọi khác của muối magie sulphat và nước ấm đều có thể làm dịu cơn đau do viêm đài bể thận gây ra từ đó giúp các tác dụng phụ khó chịu của nhiễm trùng thận khi điều trị bằng kháng sinh thêm    chén muối epsom vào bồn tắm nước ấm và nằm thư giãn trong vòng    phút cách này giúp giảm đau khá hiệu quả sử dụng thuốc giảm đau không aspirin thuốc giảm đau không aspirin như ibuprofen motrin advil và acetaminophen tylenol cũng có thể giúp hạ sốt do nhiễm trùng tuy nhiên cần tham khảo ý kiến bác sĩ khi sử dụng ibuprofen và naproxen nếu bạn bị rối loạn chức năng thận hoặc tổn thương thận cấp tính do nhiễm trùng thận ở những bệnh nhân bị nhiễm trùng thận dạng nặng không nên quá phụ thuộc vào các biện pháp trên thay vào đó cần kết hợp cùng thuốc kháng sinh đủ liều theo toa bác sĩ để giúp giảm bớt các triệu chứng hoặc cơn đau bảo bảo theo healthline\n"
          ]
        }
      ],
      "source": [
        "import re\n",
        "\n",
        "def basic_cleaning(text):\n",
        "    # Lowercasing\n",
        "    text = text.lower()\n",
        "    # Remove numbers\n",
        "    text = re.sub(r'\\d+', '', text)\n",
        "    # Remove punctuation\n",
        "    text = re.sub(r'[^\\w\\s]', '', text)\n",
        "    return text\n",
        "\n",
        "# Apply cleaning to the title and content fields\n",
        "for article in sampled_data:\n",
        "    article['title'] = basic_cleaning(article['title'])\n",
        "    article['content'] = basic_cleaning(article['content'])\n",
        "\n",
        "# Check the cleaned data\n",
        "print(sampled_data[0]['content'])\n"
      ]
    },
    {
      "cell_type": "markdown",
      "metadata": {
        "id": "3ylrBUBTkGxH"
      },
      "source": [
        "# Tokenization"
      ]
    },
    {
      "cell_type": "code",
      "execution_count": null,
      "metadata": {
        "colab": {
          "base_uri": "https://localhost:8080/"
        },
        "id": "pTY2loGZkHZI",
        "outputId": "1e2297ef-f60e-45d1-8332-bfc66ba13ef6"
      },
      "outputs": [
        {
          "output_type": "stream",
          "name": "stdout",
          "text": [
            "['nhiễm trùng', 'thận', 'hay', 'còn', 'gọi là', 'viêm', 'đài', 'bể', 'thận', 'một', 'dạng', 'nhiễm trùng', 'thường', 'gặp', 'ở', 'đường', 'tiết niệu', 'bệnh', 'thường', 'gây', 'các', 'cơn', 'đau', 'vùng', 'bụng', 'dưới', 'khu vực', 'dưới', 'hông', 'tiểu rát', 'khó chịu', 'với', 'những', 'bệnh nhân', 'mắc', 'nhiễm trùng', 'thận', 'dạng', 'nhẹ', 'một vài', 'biện pháp', 'điều trị', 'tại', 'nhà', 'có thể', 'giúp', 'cải thiện', 'đáng kể', 'các', 'triệu chứng', 'trên', 'chườm', 'nóng chườm', 'nóng', 'cũng', 'là', 'một', 'liệu pháp nhiệt', 'có', 'tác dụng', 'giảm', 'đau', 'sử dụng', 'túi', 'chườm', 'hoặc', 'một', 'chai', 'nước', 'nóng áp', 'lên', 'vùng', 'bị', 'đau', 'và', 'giữ', 'nguyên', 'trong', 'khoảng', 'phút', 'đây', 'là', 'một', 'trong', 'những', 'cách', 'giúp', 'giảm', 'cơn', 'đau', 'an toàn', 'hiệu quả', 'tức thì', 'uống', 'nhiều', 'nước', 'uống', 'nhiều', 'nước', 'có thể', 'giúp', 'loại bỏ', 'vi khuẩn', 'ra', 'khỏi', 'cơ thể', 'cải thiện', 'tình trạng', 'nhiễm trùng', 'nhanh', 'hơn', 'nước', 'lọc', 'cũng', 'giúp', 'làm', 'sạch', 'toàn bộ', 'hệ thống', 'tiết niệu', 'giúp', 'ngăn ngừa', 'nguy cơ', 'nhiễm trùng', 'tiểu diễn tiến', 'thành', 'nhiễm trùng', 'thận', 'người bệnh', 'nên', 'uống', 'từ', 'lít', 'nước', 'mỗi', 'ngày', 'bổ sung', 'vitamin', 'c', 'vitamin', 'c', 'là', 'một', 'chất', 'chống', 'oxy', 'hóa', 'mạnh', 'giúp', 'bảo vệ', 'các', 'mô', 'trong', 'cơ thể', 'khỏi', 'quá trình', 'oxy', 'hóa', 'và', 'tăng cường', 'chức năng', 'thận', 'nghiên cứu', 'tiến hành', 'trên', 'động vật', 'cho', 'thấy', 'vitamin c', 'có thể', 'ngăn ngừa', 'sẹo', 'thận', 'trong', 'nhiễm trùng', 'thận', 'cấp tính', 'và', 'tăng cường', 'các', 'enzym', 'trong', 'thận', 'bạn', 'có thể', 'bổ sung', 'vitamin', 'c', 'thông qua', 'các', 'loại', 'thực phẩm', 'hàng', 'ngày', 'cam ớt', 'chuông', 'kiwi', 'ổi', 'mùi', 'tây', 'bông', 'cải xanh', 'nước', 'ép', 'trái cây', 'nước', 'ép', 'nam', 'việt quất', 'từ', 'lâu', 'đã', 'được', 'sử dụng', 'như', 'một', 'phương pháp', 'giảm', 'bớt', 'tình trạng', 'nhiễm trùng', 'tiểu', 'và', 'nhiễm trùng', 'bàng quang', 'một số', 'bằng chứng', 'cho', 'thấy', 'uống', 'nước', 'ép', 'nam', 'việt quất', 'có thể', 'giúp', 'phòng ngừa', 'nhiễm trùng', 'tiểu', 'nhiều', 'người', 'thích', 'hương vị', 'ngọt ngào', 'của', 'sinh', 'tốt', 'nam', 'việt quất', 'hơn', 'là', 'nước', 'ép', 'tuy nhiên', 'loại', 'nước', 'này', 'cũng', 'chứa', 'nhiều', 'đường', 'nếu', 'bổ sung', 'quá', 'nhiều', 'sẽ', 'không', 'tốt', 'cho', 'người bệnh', 'các', 'sản phẩm', 'bổ sung', 'hoặc', 'nước', 'ép', 'nam', 'việt', 'quất', 'nguyên chất', 'là', 'lựa chọn', 'tốt', 'nhất', 'cho', 'người', 'bị', 'nhiễm trùng', 'thận', 'hàm lượng', 'axit', 'cao', 'trong', 'táo', 'cũng', 'có thể', 'giúp', 'thận', 'duy trì', 'độ', 'axit', 'trong', 'nước tiểu ức chế', 'sự', 'phát triển', 'thêm', 'của', 'vi khuẩn', 'táo', 'cũng', 'có', 'đặc tính', 'chống', 'viêm', 'có', 'lợi', 'trong', 'việc', 'giúp', 'thận', 'chữa', 'lành', 'sau', 'khi', 'nhiễm trùng', 'nước', 'ép', 'mùi', 'tây', 'là', 'thảo dược', 'lợi', 'tiểu giàu', 'chất', 'dinh dưỡng', 'có thể', 'làm', 'tăng', 'tần suất', 'đi', 'tiểu điều', 'này', 'có thể', 'giúp', 'loại bỏ', 'vi khuẩn', 'trong', 'thận', 'nhanh', 'hơn', 'hiệu quả', 'tương tự', 'thuốc', 'kháng sinh', 'nếu', 'không', 'thích', 'mùi vị', 'của', 'mùi', 'tây', 'bạn', 'có thể', 'làm', 'sinh tố', 'kết hợp', 'với', 'các', 'loại', 'trái cây', 'có', 'hương vị', 'mạnh', 'bao gồm', 'cả', 'quả', 'nam', 'việt quất', 'hoặc', 'quả', 'việt quất', 'để', 'có', 'kết quả', 'tốt', 'nhất', 'tránh', 'rượu', 'và', 'cà phê', 'vai trò', 'quan trọng', 'nhất', 'của', 'thận', 'là', 'lọc', 'bỏ', 'các', 'chất', 'độc hại', 'và', 'độc tố', 'trong', 'khi', 'cả', 'rượu', 'và', 'caffein', 'đều', 'có thể', 'khiến', 'thận', 'phải', 'làm việc', 'nhiều', 'hơn', 'điều', 'này', 'có thể', 'cản trở', 'quá trình', 'chữa', 'lành', 'vết thương', 'do', 'nhiễm trùng', 'rượu', 'và', 'thuốc', 'kháng sinh', 'cũng', 'không', 'nên', 'sử dụng', 'song song', 'vì vậy', 'trong', 'thời gian', 'điều trị', 'bệnh', 'có', 'sử dụng', 'thuốc', 'hãy', 'tránh', 'uống', 'rượu', 'tắm', 'muối', 'epsom', 'cả', 'muối', 'epsom', 'tên', 'gọi', 'khác', 'của', 'muối', 'magie', 'sulphat', 'và', 'nước', 'ấm', 'đều', 'có thể', 'làm', 'dịu', 'cơn', 'đau', 'do', 'viêm', 'đài', 'bể', 'thận', 'gây', 'ra', 'từ', 'đó', 'giúp', 'các', 'tác dụng', 'phụ', 'khó chịu', 'của', 'nhiễm trùng', 'thận', 'khi', 'điều trị', 'bằng', 'kháng sinh', 'thêm', 'chén', 'muối', 'epsom', 'vào', 'bồn', 'tắm', 'nước', 'ấm', 'và', 'nằm', 'thư giãn', 'trong', 'vòng', 'phút', 'cách', 'này', 'giúp', 'giảm', 'đau', 'khá', 'hiệu quả', 'sử dụng', 'thuốc', 'giảm', 'đau', 'không', 'aspirin', 'thuốc', 'giảm', 'đau', 'không', 'aspirin', 'như', 'ibuprofen', 'motrin', 'advil', 'và', 'acetaminophen', 'tylenol', 'cũng', 'có thể', 'giúp', 'hạ sốt', 'do', 'nhiễm trùng', 'tuy nhiên', 'cần', 'tham khảo', 'ý kiến', 'bác sĩ', 'khi', 'sử dụng', 'ibuprofen', 'và', 'naproxen', 'nếu', 'bạn', 'bị', 'rối loạn', 'chức năng', 'thận', 'hoặc', 'tổn thương', 'thận', 'cấp tính', 'do', 'nhiễm trùng', 'thận', 'ở', 'những', 'bệnh nhân', 'bị', 'nhiễm trùng', 'thận', 'dạng', 'nặng', 'không', 'nên', 'quá', 'phụ thuộc', 'vào', 'các', 'biện pháp', 'trên', 'thay', 'vào', 'đó', 'cần', 'kết hợp', 'cùng', 'thuốc', 'kháng sinh', 'đủ', 'liều', 'theo', 'toa', 'bác sĩ', 'để', 'giúp', 'giảm', 'bớt', 'các', 'triệu chứng', 'hoặc', 'cơn', 'đau', 'bảo', 'bảo', 'theo', 'healthline']\n"
          ]
        }
      ],
      "source": [
        "from underthesea import word_tokenize\n",
        "\n",
        "def tokenize_text(text):\n",
        "    return word_tokenize(text)\n",
        "\n",
        "# Apply tokenization to title and content\n",
        "for article in sampled_data:\n",
        "    article['title'] = tokenize_text(article['title'])\n",
        "    article['content'] = tokenize_text(article['content'])\n",
        "\n",
        "# Check tokenized content\n",
        "print(sampled_data[0]['content'])\n"
      ]
    },
    {
      "cell_type": "markdown",
      "source": [
        "# Stopword Removal:"
      ],
      "metadata": {
        "id": "WK2T6cBlMErA"
      }
    },
    {
      "cell_type": "code",
      "source": [
        "!gdown 1omdKYBQps-qvxJUGCXWyphM1PCRx4I4F"
      ],
      "metadata": {
        "colab": {
          "base_uri": "https://localhost:8080/"
        },
        "id": "HU3bwOWWKqpe",
        "outputId": "9f05cb77-fbb4-4d5f-947a-a1402fe77fcb"
      },
      "execution_count": null,
      "outputs": [
        {
          "output_type": "stream",
          "name": "stdout",
          "text": [
            "Downloading...\n",
            "From: https://drive.google.com/uc?id=1omdKYBQps-qvxJUGCXWyphM1PCRx4I4F\n",
            "To: /content/vietnamese-stopwords.txt\n",
            "\r  0% 0.00/20.5k [00:00<?, ?B/s]\r100% 20.5k/20.5k [00:00<00:00, 34.6MB/s]\n"
          ]
        }
      ]
    },
    {
      "cell_type": "code",
      "source": [
        "# opening the file in read mode\n",
        "stopwords = open(\"vietnamese-stopwords.txt\", \"r\")\n",
        "\n",
        "# reading the file\n",
        "words = stopwords.read()\n",
        "\n",
        "# replacing end splitting the text\n",
        "# when newline ('\\n') is seen.\n",
        "words_list = set(words.split(\"\\n\"))\n",
        "print(words_list)\n",
        "stopwords.close()\n"
      ],
      "metadata": {
        "colab": {
          "base_uri": "https://localhost:8080/"
        },
        "id": "CnPpTV32Ky-g",
        "outputId": "fb7962d9-e18a-4403-eaaf-8f5f40fdce3e"
      },
      "execution_count": null,
      "outputs": [
        {
          "output_type": "stream",
          "name": "stdout",
          "text": [
            "{'dẫu rằng', 'lâu lâu', 'thật là', 'vâng', 'vả chăng', 'nếu không', 'lần lần', 'đại phàm', 'đây này', 'có cơ', 'làm', 'có người', 'mà', 'nhân dịp', 'ở đó', 'không những', 'thật vậy', 'nói thật', 'đến gần', 'có vẻ', 'thương ôi', 'mọi khi', 'ren rén', 'đầy phè', 'lấy ra', 'tự ăn', 'chung qui', 'điểm gặp', 'cho thấy', 'chỉ tên', 'trên bộ', 'hãy', 'chia sẻ', 'tất thảy', 'cho về', 'năm', 'đưa ra', 'bất thình lình', 'tạo ra', 'có số', 'không dùng', 'nay', 'tuy vậy', 'phần lớn', 'ba họ', 'phải giờ', 'từ loại', 'lấy ráo', 'xa nhà', 'bác', 'cơ mà', 'chuyển đạt', 'rồi thì', 'ơ kìa', 'lấy cả', 'chứ gì', 'cho đến', 'sau cùng', 'bước', 'với', 'vụt', 'khoảng cách', 'khá tốt', 'về tay', 'đủ dùng', 'tay quay', 'cảm thấy', 'ngăn ngắt', 'sau cuối', 'dưới', 'loại từ', 'rằng', 'ở được', 'nước đến', 'phải rồi', 'bộ', 'a lô', 'bấy nay', 'mỗi lúc', 'chúng ta', 'có ý', 'hoặc là', 'nào cũng', 'khi', 'xuống', 'thực vậy', 'tiếp đó', 'mới đây', 'toé khói', 'xem', 'ngồi sau', 'phía dưới', 'dưới nước', 'nhiều ít', 'công nhiên', 'còn thời gian', 'tìm hiểu', 'tại đó', 'nếu mà', 'cả nghe', 'ngày nào', 'yêu cầu', 'thanh điều kiện', 'chỉn', 'phải tay', 'gần', 'làm lòng', 'mọi', 'quá lời', 'quay lại', 'do đó', 'qua đi', 'nên làm', 'thấp thỏm', 'vung tàn tán', 'nhiệt liệt', 'đồng thời', 'nên chăng', 'phót', 'đó đây', 'vậy nên', 'ngày này', 'không còn', 'ra bài', 'như không', 'trước khi', 'vài ba', 'cô mình', 'bằng nhau', 'không nhận', 'nhất thiết', 'bản bộ', 'buổi làm', 'cao thấp', 'thoạt nghe', 'nước', 'ăn hết', 'vài nơi', 'xon xón', 'chắc chắn', 'thỏm', 'giữa lúc', 'bỏ mẹ', 'ắt', 'hầu hết', 'biết việc', 'hết rồi', 'chưa', 'bán thế', 'cũng nên', 'thốc', 'đến lúc', 'từng phần', 'bỗng thấy', 'do vậy', 'ít lâu', 'bỏ việc', 'gồm', 'vậy', 'hiện nay', 'cho chắc', 'nhất loạt', 'tính', 'thốt nhiên', 'từ căn', 'gần như', 'rồi ra', 'dần dà', 'sang năm', 'bài cái', 'trước đây', 'đầy tuổi', 'vậy thì', 'cùng tuổi', 'chu cha', 'thời gian', 'tin', 'cao sang', 'bỗng dưng', 'làm theo', 'riêng từng', 'lấy để', 'ráo', 'tay', 'đưa cho', 'lại nữa', 'nhất tề', 'đang thì', 'trệt', 'có được', 'khó khăn', 'rồi', 'tự ý', 'bên bị', 'lên số', 'thoắt', 'tôi', 'tránh xa', 'tính từ', 'bất cứ', 'thốc tháo', 'sau', 'hỏi xin', 'ngộ nhỡ', 'nhất đán', 'bản', 'sẽ hay', 'dầu sao', 'bằng cứ', 'bển', 'lấy có', 'không bao giờ', 'từ đó', 'chúng', 'như thể', 'buổi sớm', 'giờ này', 'ngoài xa', 'song le', 'cho ăn', 'dù dì', 'khi nên', 'sau đó', 'dần dần', 'muốn', 'số người', 'nói rõ', 'lượng cả', 'cần gì', 'nhất quyết', 'tuổi cả', 'cụ thể như', 'cả thể', 'quả', 'đủ nơi', 'úi dào', 'nhược bằng', 'lấy vào', 'tựu trung', 'đại để', 'bởi nhưng', 'vào khoảng', 'bệt', 'tuy nhiên', 'ứ hự', 'căn cái', 'nghĩ', 'cần cấp', 'chú mày', 'bức', 'cách đều', 'thiếu điểm', 'ra ý', 'chịu tốt', 'thục mạng', 'tò te', 'dành', 'thốt', 'giờ đây', 'biết', 'cả người', 'là là', 'tột', 'tốc tả', 'nghiễm nhiên', 'bà ấy', 'điều gì', 'tôi con', 'đây rồi', 'đến nơi', 'bị', 'bỏ ra', 'để mà', 'tù tì', 'chậc', 'có ăn', 'thình lình', 'làm tăng', 'vì sao', 'đưa xuống', 'nghe thấy', 'vở', 'làm như', 'đã', 'ôi chao', 'không thể', 'thích', 'rồi nữa', 'trước kia', 'đáng lý', 'đâu phải', 'từ khi', 'sao vậy', 'tránh tình trạng', 'giảm', 'bất nhược', 'cùng ăn', 'đâu', 'là phải', 'là cùng', 'thực tế', 'thêm giờ', 'chưa từng', 'đến giờ', 'mất còn', 'ai ai', 'tìm việc', 'điểm chính', 'có đáng', 'ngày càng', 'cả năm', 'có điều', 'ngày tháng', 'tỏ ra', 'phắt', 'rõ thật', 'bởi thế cho nên', 'tin vào', 'ông ấy', 'không cùng', 'phải cách', 'làm tin', 'từ', 'nên tránh', 'chớ chi', 'không đầy', 'vì thế', 'một lúc', 'có phải', 'tấm các', 'nhân tiện', 'ít', 'nói qua', 'đại nhân', 'đưa tay', 'dùng làm', 'ổng', 'cùng nhau', 'tên họ', 'tắp', 'ờ ờ', 'tránh', 'vào lúc', 'đưa đến', 'vấn đề', 'trừ phi', 'thốt thôi', 'con con', 'đủ điểm', 'cho', 'có chăng', 'ba cùng', 'khác nào', 'anh', 'bởi', 'tăng giảm', 'ít có', 'cách không', 'buổi', 'đâu có', 'sẽ', 'ngay bây giờ', 'con dạ', 'cả đến', 'tìm cách', 'vẫn thế', 'nước ăn', 'tức tốc', 'đưa vào', 'để lại', 'để không', 'hãy còn', 'nói phải', 'tiếp theo', 'lấy lại', 'bất kỳ', 'có chuyện', 'cu cậu', 'mối', 'tốt', 'khác nhau', 'tấm bản', 'bản thân', 'chỉ có', 'tuy có', 'đều bước', 'những là', 'bất quá chỉ', 'nhờ chuyển', 'sao đang', 'tháng năm', 'chao ôi', 'mọi việc', 'cho tin', 'trước tuổi', 'bỏ mình', 'mới hay', 'lấy thế', 'làm cho', 'sự', 'họ gần', 'cũng được', 'về không', 'bất quá', 'như nhau', 'chú', 'ngồi trệt', 'quả thế', 'đưa', 'vừa qua', 'mất', 'là nhiều', 'thực ra', 'tới mức', 'nhớ', 'cuối cùng', 'nữa khi', 'lấy được', 'thấp', 'à ơi', 'bài bác', 'chứ lị', 'khó làm', 'bỏ quá', 'bỏ mất', 'không biết', 'xăm xăm', 'có nhà', 'đến', 'khiến', 'bằng không', 'phía trên', 'có đâu', 'sau hết', 'bởi chưng', 'có ngày', 'nói lên', 'chưa bao giờ', 'sự việc', 'chẳng lẽ', 'gây thêm', 'thà rằng', 'tại lòng', 'chung ái', 'thời gian tính', 'mà lại', 'bập bà bập bõm', 'sau này', 'chúng ông', 'dùng hết', 'cơ cùng', 'qua lại', 'việc gì', 'sắp', 'trả của', 'với nhau', 'qua ngày', 'bất kể', 'trực tiếp làm', 'nữa', 'tránh ra', 'nghe nhìn', 'một cách', 'đánh giá', 'đã hay', 'cho nhau', 'ý hoặc', 'dài ra', 'ấy là', 'ối giời ơi', 'lúc sáng', 'mỗi ngày', 'sử dụng', 'ngồi bệt', 'số loại', 'ngay lập tức', 'chớ không', 'cao xa', 'khác', 'thế nào', 'chịu lời', 'cả', 'nào phải', 'cuối', 'em em', 'chơi', 'trước đó', 'vung tán tàn', 'tạo điều kiện', 'bập bõm', 'tột cùng', 'từ nay', 'tấm', 'ầu ơ', 'sắp đặt', 'liên quan', 'qua tay', 'sự thế', 'ừ', 'khó thấy', 'ngoải', 'cái gì', 'sao cho', 'lại bộ', 'khó', 'nói xa', 'sang sáng', 'bất tử', 'lại còn', 'choa', 'nhau', 'làm tại', 'úi', 'bỏ cha', 'riêng', 'bị vì', 'chết tiệt', 'lấy xuống', 'cũng thế', 'chợt', 'lấy giống', 'rồi đây', 'nghĩ lại', 'ăn quá', 'ăn', 'nói thêm', 'ngay từ', 'dễ', 'tình trạng', 'một', 'giống nhau', 'lấy thêm', 'nói chung', 'từ thế', 'lần sang', 'gây cho', 'á à', 'dễ nghe', 'hay', 'còn như', 'đã là', 'gần hết', 'thế ra', 'ngày ấy', 'nghĩ xa', 'úi chà', 'vài tên', 'vùng', 'gặp phải', 'ít khi', 'hay biết', 'chết thật', 'cao răng', 'bắt đầu từ', 'hơn trước', 'xiết bao', 'lớn nhỏ', 'chuẩn bị', 'bằng như', 'thôi việc', 'như sau', 'ừ thì', 'đến đâu', 'chung nhau', 'phải khi', 'vô hình trung', 'trở thành', 'xuất kỳ bất ý', 'chắc vào', 'chớ gì', 'chị', 'quá tay', 'dễ sử dụng', 'có điều kiện', 'mỗi lần', 'chủn', 'khó biết', 'ăn tay', 'lúc ấy', 'ai nấy', 'ối giời', 'tông tốc', 'nguồn', 'nói bông', 'biết thế', 'dễ khiến', 'vừa', 'dễ dùng', 'làm lấy', 'khi nào', 'dù sao', 'coi bộ', 'alô', 'ngày xưa', 'bài bỏ', 'từng', 'ai đó', 'đâu đó', 'chúng tôi', 'chọn bên', 'không chỉ', 'ối dào', 'bao lâu', 'chuyển tự', 'thế đó', 'vả lại', 'người', 'như tuồng', 'hay là', 'duy chỉ', 'vừa khi', 'ba bản', 'ử', 'hỗ trợ', 'oái', 'phải lại', 'bán dạ', 'lần nào', 'ngày qua', 'như chơi', 'xăm xúi', 'dì', 'toà', 'mọi lúc', 'tà tà', 'vào đến', 'phải chi', 'chị bộ', 'làm mất', 'phỏng tính', 'tất tật', 'xoành xoạch', 'đã đủ', 'nói nhỏ', 'lượng từ', 'mọi giờ', 'chắc lòng', 'nghĩ tới', 'hay tin', 'ái chà', 'phía trước', 'đã thế', 'gần bên', 'ừ ừ', 'phải chăng', 'như', 'vào', 'tạo', 'nóc', 'bất chợt', 'nghe rõ', 'quan trọng vấn đề', 'phè phè', 'ô hay', 'quá trình', 'thanh tính', 'cơ chừng', 'bỏ lại', 'dạ dạ', 'phè', 'thế thôi', 'trếu tráo', 'những như', 'nhớ ra', 'đưa tin', 'mợ', 'tha hồ', 'chưa chắc', 'hết ý', 'khoảng không', 'quá', 'đến điều', 'thành thử', 'đều nhau', 'chui cha', 'nhằm lúc', 'nên', 'khỏi nói', 'dùng cho', 'xin gặp', 'từ tại', 'thà là', 'bởi vì', 'chốc chốc', 'bằng nấy', 'hay làm', 'veo', 'ấy', 'nào đó', 'để giống', 'người nhận', 'đủ', 'ăn chung', 'cô ấy', 'ào ào', 'cái đã', 'ăn về', 'khẳng định', 'nếu', 'để phần', 'ở nhờ', 'vì chưng', 'thậm chí', 'xuất hiện', 'cô tăng', 'bay biến', 'từ từ', 'cả thảy', 'quận', 'nhờ', 'cật lực', 'thuộc từ', 'vèo', 'rén', 'tin thêm', 'rón rén', 'giảm thế', 'nhớ bập bõm', 'không phải không', 'tốt hơn', 'đại loại', 'thường xuất hiện', 'giữa', 'nghe lại', 'nghe đâu', 'tuổi', 'tự tính', 'bây nhiêu', 'qua', 'cho rằng', 'nghe đâu như', 'nào', 'biết được', 'nếu có', 'nghĩ ra', 'các', 'tăng', 'thế chuẩn bị', 'biết trước', 'phần việc', 'nói toẹt', 'cứ điểm', 'nền', 'sáng rõ', 'ít quá', 'khi không', 'cây nước', 'ở', 'hoàn toàn', 'giống như', 'thêm', 'đến hay', 'nhà làm', 'bèn', 'mang lại', 'lấy số', 'đầy', 'ngọt', 'ra ngôi', 'đã không', 'ra bộ', 'phải cái', 'thôi', 'mỗi một', 'ừ ào', 'vâng dạ', 'vấn đề quan trọng', 'đảm bảo', 'cấp số', 'mở nước', 'quá tin', 'rốt cuộc', 'bấy nhiêu', 'nhà ngoài', 'quan tâm', 'bây chừ', 'bằng người', 'nhung nhăng', 'thật', 'đặt ra', 'sì', 'thuần', 'tìm ra', 'ông nhỏ', 'khỏi', 'kể', 'nhất là', 'béng', 'của ngọt', 'thà', 'thật ra', 'nói trước', 'ở năm', 'chắc người', 'lần trước', 'tất cả', 'nhất sinh', 'chắc', 'là vì', 'tên', 'bỗng chốc', 'cóc khô', 'bỗng đâu', 'chung cuộc', 'dù cho', 'tít mù', 'vậy ra', 'khác gì', 'nhìn', 'thanh chuyển', 'như ai', 'thế sự', 'chính thị', 'trong đó', 'lời chú', 'tại đây', 'ông ổng', 'làm gì', 'theo bước', 'tại đâu', 'vừa mới', 'vô luận', 'dẫu', 'ít biết', 'tuy đã', 'nước bài', 'cuộc', 'cách nhau', 'tại vì', 'bao giờ', 'từng nhà', 'chứ lại', 'phần', 'bỗng nhiên', 'thành ra', 'bỏ riêng', 'thúng thắng', 'đưa chuyện', 'ít nhiều', 'giảm thấp', 'có thế', 'ngõ hầu', 'ăn chắc', 'tuy là', 'nhất định', 'đều', 'so', 'cả ngày', 'sớm ngày', 'qua thì', 'họ', 'quan trọng', 'xệp', 'đến cùng cực', 'ô hô', 'khách', 'bài', 'tức thì', 'ông từ', 'đáng kể', 'có khi', 'về sau', 'cứ việc', 'chứ còn', 'ngoài này', 'lại quả', 'đâu nào', 'đáng lẽ', 'không ai', 'thì thôi', 'bị chú', 'tên tự', 'biết chừng nào', 'lâu ngày', 'nặng căn', 'ăn ngồi', 'cha', 'gây giống', 'tại nơi', 'thế thường', 'tự', 'rồi sau', 'thứ đến', 'được', 'thường tính', 'ắt thật', 'ơi là', 'bấy lâu nay', 'dễ thường', 'điều', 'cơ hồ', 'cao lâu', 'cũng vậy', 'bất đồ', 'cụ thể là', 'tới', 'cấp', 'vị trí', 'khá', 'quá bộ', 'nhìn nhận', 'sẽ biết', 'không khỏi', 'tốt mối', 'mà không', 'cậu', 'như trước', 'bỗng không', 'bội phần', 'đâu cũng', 'nhất mực', 'bà', 'chiếc', 'chứ không', 'lòng', 'ra chơi', 'ngày', 'phăn phắt', 'nặng', 'ngay tức khắc', 'sì sì', 'ở đây', 'chẳng phải', 'là ít', 'nói lại', 'từng ấy', 'ý da', 'hết ráo', 'vạn nhất', 'ý chừng', 'qua chuyện', 'tuổi tôi', 'dễ như chơi', 'đưa em', 'vậy ư', 'ăn cuộc', 'cảm ơn', 'mà vẫn', 'dù gì', 'nhờ có', 'dễ sợ', 'nước xuống', 'chắc ăn', 'để đến nỗi', 'lên', 'hơn cả', 'kể cả', 'mà thôi', 'điểm đầu tiên', 'nói với', 'thấp xuống', 'vâng chịu', 'phía bên', 'chành chạnh', 'giữ', 'từ giờ', 'cách', 'lần', 'cách bức', 'cô quả', 'nghe chừng', 'cả ăn', 'cho đến khi', 'biết chắc', 'gặp khó khăn', 'trực tiếp', 'ví dù', 'xin vâng', 'qua khỏi', 'rứa', 'cấp trực tiếp', 'bỏ', 'nói ra', 'một ít', 'xoẹt', 'mang', 'hay nhỉ', 'ví phỏng', 'phần nào', 'vài người', 'bằng ấy', 'so với', 'chung chung', 'thật quả', 'hay nói', 'thực hiện', 'thảo nào', 'cái đó', 'xuất kì bất ý', 'quá bán', 'bất luận', 'theo như', 'thẩy', 'ăn riêng', 'lên đến', 'cái ấy', 'rén bước', 'ăn trên', 'bước khỏi', 'đặt', 'không kể', 'bỏ xa', 'quả thật', 'lại giống', 'nhận ra', 'pho', 'quả vậy', 'tắp tắp', 'chăng nữa', 'dào', 'thế thì', 'không phải', 'lần sau', 'không tính', 'ăn hỏi', 'thốt nói', 'như thế nào', 'ở trên', 'chính giữa', 'ba', 'lấy lý do', 'chỉ', 'tọt', 'dẫu mà', 'tênh tênh', 'từ ái', 'bước đi', 'đến ngày', 'có ai', 'ở lại', 'hỏi', 'chọn ra', 'một vài', 'thường bị', 'đã lâu', 'giờ', 'duy', 'hết của', 'chăng chắc', 'không', 'ở vào', 'trong vùng', 'chú dẫn', 'mỗi', 'nhằm khi', 'đầu tiên', 'chăn chắn', 'trong ấy', 'câu hỏi', 'ủa', 'tạo ý', 'làm thế nào', 'đúng ngày', 'nhằm', 'về', 'nhìn thấy', 'nên chi', 'chỉ là', 'tại tôi', 'tạo nên', 'luôn', 'ba ngôi', 'ngôi thứ', 'chớ', 'dạ bán', 'là', 'sang tay', 'thậm cấp', 'hơn', 'ngày ngày', 'khác thường', 'mạnh', 'áng như', 'không bán', 'tăng thêm', 'còn', 'phỉ phui', 'một khi', 'nhận họ', 'riệt', 'thím', 'có nhiều', 'dùng đến', 'lớn', 'dù', 'thế', 'thời điểm', 'những muốn', 'đặt làm', 'rõ', 'gì gì', 'khó chơi', 'nước cùng', 'bởi tại', 'gây', 'bấy giờ', 'làm đúng', 'nhé', 'không gì', 'nhất thì', 'trả trước', 'tính cách', 'đến tuổi', 'tuốt tuột', 'vèo vèo', 'mang mang', 'ngay', 'còn về', 'lần tìm', 'ồ ồ', 'hết chuyện', 'xem lại', 'xem ra', 'vậy là', 'biết đâu chừng', 'nhà', 'lần này', 'những ai', 'chứ như', 'ngoài', 'ngay lúc này', 'trả ngay', 'khó mở', 'lúc này', 'thế à', 'phần nhiều', 'chính bản', 'trả', 'ạ ơi', 'khi trước', 'ái', 'về phần', 'để', 'trong này', 'trển', 'khó tránh', 'số cho biết', 'thường số', 'xin', 'ít nữa', 'âu là', 'tới nơi', 'nhưng mà', 'theo tin', 'nếu vậy', 'ai', 'là thế nào', 'nhận biết', 'vung thiên địa', 'hết cả', 'vâng ý', 'lời nói', 'đây', 'mà cả', 'không có gì', 'sao bản', 'suýt', 'ngươi', 'có tháng', 'nặng về', 'sất', 'dành dành', 'thậm từ', 'tháng tháng', 'sáng thế', 'phốc', 'cứ', 'chuyển', 'thường sự', 'tự khi', 'vùng nước', 'đưa tới', 'trong khi', 'tấn', 'này', 'tênh', 'mọi nơi', 'cao ráo', 'tuy', 'đạt', 'ớ', 'chẳng nữa', 'xa xa', 'như thường', 'bấy', 'bên cạnh', 'ít thôi', 'trên', 'và', 'riu ríu', 'mức', 'trước ngày', 'ứ ừ', 'thật lực', 'đến thì', 'cha chả', 'cá nhân', 'lúc khác', 'cả tin', 'do vì', 'tại sao', 'dạ', 'tuyệt nhiên', 'trước hết', 'rất lâu', 'ở như', 'nó', 'thêm vào', 'nớ', 'xa tanh', 'cật sức', 'tất tần tật', 'thỉnh thoảng', 'quá ư', 'buổi mới', 'kể tới', 'cao', 'làm ra', 'thực hiện đúng', 'gây ra', 'cũng', 'bấy chầy', 'đúng tuổi', 'bởi thế', 'nhất', 'không để', 'xoét', 'cuốn', 'cơ', 'lấy sau', 'nơi', 'cơn', 'không hay', 'có họ', 'mang nặng', 'luôn cả', 'đã vậy', 'thế thế', 'nếu cần', 'nhớ lại', 'chưa có', 'có chứ', 'phỏng theo', 'dễ đâu', 'sang', 'thường tại', 'từ tính', 'lên cao', 'tự tạo', 'căn', 'vừa lúc', 'coi mòi', 'trong lúc', 'dở chừng', 'than ôi', 'nhiều', 'chớ kể', 'vô vàn', 'của tin', 'số phần', 'chính điểm', 'xa gần', 'nhớ lấy', 'thế là', 'bớ', 'toẹt', 'nếu thế', 'người khác', 'gần đến', 'tiếp tục', 'rất', 'thế lại', 'ngồi không', 'bởi ai', 'vì vậy', 'ăn làm', 'lòng không', 'xa tắp', 'mới', 'như ý', 'ngày cấp', 'hay đâu', 'cần số', 'ngôi nhà', 'hỏi lại', 'nghe trực tiếp', 'ào', 'ba ba', 'việc', 'bất kì', 'còn nữa', 'ôi thôi', 'nghe hiểu', 'tìm bạn', 'đặt để', 'giá trị thực tế', 'chùn chũn', 'sau sau', 'nghĩ đến', 'dễ thấy', 'ví bằng', 'tiện thể', 'nhất luật', 'loại', 'mở mang', 'sở dĩ', 'phụt', 'vào gặp', 'gì đó', 'hết', 'quá thì', 'rằng là', 'thích thuộc', 'thấy', 'nhưng', 'nhà chung', 'bên có', 'tháng ngày', 'được nước', 'nói đến', 'bán cấp', 'sa sả', 'tuốt luốt', 'cho rồi', 'cái họ', 'dữ', 'đành đạch', 'cùng', 'thay đổi tình trạng', 'giữ lấy', 'rày', 'cao thế', 'rích', 'tanh tanh', 'ờ', 'à', 'vậy mà', 'bộ thuộc', 'quá nhiều', 'tự vì', 'lâu nay', 'phải biết', 'bộ điều', 'nhà việc', 'xoẳn', 'vượt khỏi', 'người khách', 'thuộc cách', 'trước tiên', 'nếu được', 'ra đây', 'hay không', 'điểm', 'tại', 'đáng', 'tới thì', 'hơn là', 'tuy rằng', 'xuể', 'cả nghĩ', 'làm ngay', 'đặt trước', 'bỗng', 'như quả', 'cuối điểm', 'ngồi', 'không bao lâu', 'ơ hay', 'hỏi xem', 'đủ số', 'chưa dùng', 'tha hồ chơi', 'người người', 'duy có', 'thiếu gì', 'cho tới', 'vừa rồi', 'làm dần dần', 'đến khi', 'ngọn', 'trước nay', 'chết nỗi', 'tha hồ ăn', 'người nghe', 'ít hơn', 'xảy ra', 'được lời', 'tính căn', 'lên cơn', 'tăm tắp', 'lấy làm', 'ví thử', 'tớ', 'quả là', 'thuộc lại', 'căn tính', 'thanh', 'tuần tự', 'trong ngoài', 'không cứ', 'ắt phải', 'rốt cục', 'vốn dĩ', 'rút cục', 'phía', 'càng hay', 'đáng số', 'thời gian sử dụng', 'thường thôi', 'căn cắt', 'cùng chung', 'tên cái', 'tốt ngày', 'đến thế', 'chịu ăn', 'nhờ nhờ', 'thật chắc', 'vẫn', 'bao nả', 'thuộc bài', 'cho tới khi', 'vài', 'thích cứ', 'chứ sao', 'ạ', 'giá trị', 'lại nói', 'giống người', 'thậm', 'sớm', 'nhỉ', 'thường hay', 'lâu các', 'quá đáng', 'thì', 'có thể', 'đặt mình', 'số cụ thể', 'từng giờ', 'ăn người', 'làm tôi', 'lại cái', 'trong', 'nghe như', 'lại ăn', 'giảm chính', 'người mình', 'nhận nhau', 'giờ đi', 'vượt quá', 'nghe tin', 'ra điều', 'chịu chưa', 'sáng ngày', 'áng', 'đều đều', 'để lòng', 'nghỉm', 'lúc', 'phía bạn', 'ra sao', 'thay đổi', 'thế nên', 'biết bao', 'bán', 'hết nói', 'nhón nhén', 'khác xa', 'khó nghe', 'nói riêng', 'tỏ vẻ', 'mọi sự', 'á', 'với lại', 'chung quy lại', 'mỗi người', 'những lúc', 'bằng vào', 'cho hay', 'nước lên', 'bỏ không', 'các cậu', 'nhìn theo', 'chùn chùn', 'cho đang', 'đâu đâu', 'như là', 'tháng', 'phỏng', 'đâu đây', 'ăn chịu', 'ắt là', 'nói đủ', 'bấy lâu', 'dài lời', 'nhỏ', 'nghe nói', 'nhà khó', 'vào vùng', 'khoảng', 'quá giờ', 'dài', 'đánh đùng', 'ông', 'nghen', 'phỏng như', 'đang tay', 'nữa rồi', 'từng thời gian', 'tự cao', 'tắp lự', 'ra lại', 'rõ là', 'lúc trước', 'tính phỏng', 'ngay tức thì', 'bây bẩy', 'chưa tính', 'thích ý', 'được cái', 'à này', 'như vậy', 'lúc đó', 'ngôi', 'a ha', 'chưa cần', 'thấy tháng', 'chính là', 'đến nỗi', 'tập trung', 'phía trong', 'tất cả bao nhiêu', 'ba tăng', 'lên nước', 'nói là', 'thếch', 'hay sao', 'để cho', 'thì giờ', 'chung quy', 'nữa là', 'bằng được', 'vô kể', 'thứ bản', 'thật tốt', 'hiểu', 'tới gần', 'nhìn chung', 'veo veo', 'kể như', 'làm nên', 'rồi tay', 'bởi đâu', 'đúng với', 'sao bằng', 'hơn hết', 'trước', 'gì', 'biết mình', 'luôn luôn', 'mình', 'đến lời', 'ơi', 'biết đâu', 'tăng cấp', 'giờ lâu', 'quá mức', 'trên dưới', 'giữ ý', 'ngày giờ', 'ngày xửa', 'ngay khi đến', 'thường khi', 'trỏng', 'về nước', 'hiện tại', 'những', 'quay bước', 'ra tay', 'đầy năm', 'chỉ chính', 'thường thường', 'cụ thể', 'có dễ', 'đúng', 'bỏ bà', 'lúc nào', 'cơ dẫn', 'chọn', 'ăn sáng', 'dù rằng', 'mang về', 'tốt bạn', 'quá tuổi', 'đó', 'theo', 'không có', 'bất giác', 'thửa', 'ra lời', 'xa cách', 'ráo trọi', 'họ xa', 'do', 'làm riêng', 'lại người', 'vâng vâng', 'thái quá', 'nhận việc', 'nơi nơi', 'tìm', 'phải như', 'số', 'nghe ra', 'thấp cơ', 'đặc biệt', 'bắt đầu', 'vượt', 'ngày nọ', 'đang', 'nhằm vào', 'thêm chuyện', 'luôn tay', 'anh ấy', 'sao', 'thì là', 'giờ đến', 'cái', 'chứ', 'càng', 'sốt sột', 'dạ con', 'nhóm', 'từ điều', 'gặp', 'ồ', 'nhanh tay', 'chắc dạ', 'biết bao nhiêu', 'thuộc', 'chí chết', 'nào đâu', 'con nhà', 'được tin', 'biết mấy', 'thật thà', 'ông tạo', 'cây', 'lớn lên', 'gần ngày', 'xăm xắm', 'đến xem', 'chẳng những', 'tanh', 'ít ra', 'nghe không', 'lần khác', 'không cần', 'để được', 'chứ không phải', 'số thiếu', 'đáo để', 'chung', 'nhà tôi', 'khó nghĩ', 'biết đâu đấy', 'hơn nữa', 'đối với', 'nọ', 'chớ như', 'nhận được', 'suýt nữa', 'nói khó', 'dễ ăn', 'thuần ái', 'chăng', 'làm sao', 'đến cùng', 'thiếu', 'số là', 'từ ấy', 'phía sau', 'ngay cả', 'khác khác', 'vừa vừa', 'nhà ngươi', 'hoặc', 'ớ này', 'trả lại', 'dẫu sao', 'lại làm', 'chịu', 'bỏ nhỏ', 'ư', 'dạ khách', 'chưa dễ', 'làm vì', 'thường đến', 'ơ', 'ngày đến', 'xử lý', 'phù hợp', 'ý', 'buổi ngày', 'ái dà', 'ra người', 'nhất tâm', 'amen', 'bằng', 'tự lượng', 'chứ ai', 'làm được', 'phải lời', 'nhanh', 'nhờ đó', 'nhỡ ra', 'thì ra', 'nhận làm', 'lý do', 'ra', 'không điều kiện', 'không được', 'phải không', 'ráo cả', 'tối ư', 'xa', 'đủ điều', 'em', 'đây đó', 'con tính', 'ngay thật', 'cũng vậy thôi', 'cùng cực', 'bên', 'dùng', 'dữ cách', 'như thế', 'mọi người', 'qua lần', 'lúc lâu', 'tên chính', 'con', 'thanh điểm', 'rồi sao', 'sau chót', 'đơn vị', 'trong số', 'lúc đến', 'oai oái', 'lại', 'nghe', 'nước nặng', 'cũng như', 'nức nở', 'bây giờ', 'vị tất', 'chơi họ', 'dễ gì', 'mở', 'không ngoài', 'cổ lai', 'đáng lí', 'tuy thế', 'ít nhất', 'thích tự', 'dễ ngươi', 'nói', 'ráo nước', 'khi khác', 'chắc hẳn', 'bao nhiêu', 'nói tốt', 'lượng', 'chung cục', 'gần đây', 'tuốt tuồn tuột', 'xem số', 'thế mà', 'đặt mức', 'có', 'làm tắp lự', 'đưa về', 'dẫn', 'bạn', 'nhìn lại', 'nói ý', 'quay số', 'văng tê', 'điều kiện', 'nhận', 'tăng thế', 'bước tới', 'quay đi', 'mới rồi', 'mọi thứ', 'cùng tột', 'thứ', 'phóc', 'nặng mình', 'bông', 'cơ chỉ', 'làm bằng', 'thộc', 'bản riêng', 'lúc đi', 'ngày rày', 'người hỏi', 'đến cả', 'nhiên hậu', 'chầm chập', 'thì phải', 'chuyện', 'lại thôi', 'năm tháng', 'nấy', 'bằng nào', 'thoạt', 'cao số', 'tính người', 'ô kìa', 'của', 'từng cái', 'cần', 'như trên', 'bản ý', 'hay hay', 'nào hay', 'đúng ra', 'mở ra', 'lượng số', 'lấy', 'những khi', 'thực sự', 'răng răng', 'lần theo', 'nhất nhất', 'sáng ý', 'lời', 'cho biết', 'vài nhà', 'vì rằng', 'cùng với', 'gần xa', 'ngoài ra', 'thật sự', 'chưa kể', 'tốt bộ', 'phần sau', 'kể từ', 'nhanh lên', 'từng đơn vị', 'ngọn nguồn', 'phỏng nước', 'khó nói', 'nhận thấy', 'đến nay', 'làm lại', 'thanh không', 'bấy chừ', 'nhằm để', 'bởi sao', 'phải', 'chung cho', 'ào vào', 'xa xả', 'trời đất ơi', 'thanh ba', 'bởi vậy', 'vùng lên', 'tăng chúng', 'bất ngờ', 'thanh thanh', 'ắt hẳn', 'lên xuống', 'giống', 'vì', 'cho được', 'ô kê', 'chị ấy', 'ngay lúc', 'ra gì', 'có chăng là', 'chú khách', 'nếu như', 'chú mình', 'một cơn', 'sau đây', 'trước nhất', 'lại đây', 'lên mạnh', 'phải người', 'thường', 'tấn tới', 'trệu trạo', 'rồi xem', 'bỏ cuộc', 'răng', 'ít thấy', 'này nọ', 'phứt', 'cho nên', 'nào là', 'đâu như', 'sau nữa', 'cả nhà', 'trong mình', 'cực lực', 'thoạt nhiên', 'đến bao giờ', 'thảo hèn', 'bỗng nhưng', 'tránh khỏi', 'chợt nghe', 'nước quả', 'ừ nhé', 'ra vào', 'nhìn xuống', 'quay', 'nên người', 'thi thoảng', 'càng càng', 'lâu', 'cho đến nỗi', 'chính', 'vài điều', 'trước sau', 'dạ dài', 'xềnh xệch', 'chợt nhìn', 'ngay khi', 'chúng mình', 'cứ như', 'nghe được', 'tạo cơ hội', 'một số', 'cơ hội', 'nhỏ người', 'ba ngày', 'phương chi', 'lên ngôi', 'sáng', 'cô'}\n"
          ]
        }
      ]
    },
    {
      "cell_type": "code",
      "source": [
        "import string\n",
        "\n",
        "def remove_stopwords(text, stopwords):\n",
        "    # filtered_tokens = [word for word in text if word not in stopwords]\n",
        "    filtered_tokens = [word for word in text if word not in words_list and word not in string.punctuation]\n",
        "    return filtered_tokens"
      ],
      "metadata": {
        "id": "OccPGlP7Knjq"
      },
      "execution_count": null,
      "outputs": []
    },
    {
      "cell_type": "code",
      "source": [
        "# Remove stopwords from title and content\n",
        "for article in sampled_data:\n",
        "    article['title'] = remove_stopwords(article['title'], words_list)\n",
        "    article['content'] = remove_stopwords(article['content'], words_list)"
      ],
      "metadata": {
        "id": "cFQcEocqKvMF"
      },
      "execution_count": null,
      "outputs": []
    },
    {
      "cell_type": "code",
      "source": [
        "print(sampled_data[0]['content'])"
      ],
      "metadata": {
        "colab": {
          "base_uri": "https://localhost:8080/"
        },
        "id": "4tQdiGGVLtoi",
        "outputId": "fcdf0352-d219-4964-81bd-9daeba83d4ee"
      },
      "execution_count": null,
      "outputs": [
        {
          "output_type": "stream",
          "name": "stdout",
          "text": [
            "['nhiễm trùng', 'thận', 'gọi là', 'viêm', 'đài', 'bể', 'thận', 'dạng', 'nhiễm trùng', 'đường', 'tiết niệu', 'bệnh', 'đau', 'bụng', 'khu vực', 'hông', 'tiểu rát', 'khó chịu', 'bệnh nhân', 'mắc', 'nhiễm trùng', 'thận', 'dạng', 'nhẹ', 'biện pháp', 'điều trị', 'giúp', 'cải thiện', 'triệu chứng', 'chườm', 'nóng chườm', 'nóng', 'liệu pháp nhiệt', 'tác dụng', 'đau', 'túi', 'chườm', 'chai', 'nóng áp', 'đau', 'nguyên', 'phút', 'giúp', 'đau', 'an toàn', 'hiệu quả', 'uống', 'uống', 'giúp', 'loại bỏ', 'vi khuẩn', 'cơ thể', 'cải thiện', 'nhiễm trùng', 'lọc', 'giúp', 'sạch', 'toàn bộ', 'hệ thống', 'tiết niệu', 'giúp', 'ngăn ngừa', 'nguy cơ', 'nhiễm trùng', 'tiểu diễn tiến', 'thành', 'nhiễm trùng', 'thận', 'người bệnh', 'uống', 'lít', 'bổ sung', 'vitamin', 'c', 'vitamin', 'c', 'chất', 'chống', 'oxy', 'hóa', 'giúp', 'bảo vệ', 'mô', 'cơ thể', 'oxy', 'hóa', 'tăng cường', 'chức năng', 'thận', 'nghiên cứu', 'tiến hành', 'động vật', 'vitamin c', 'ngăn ngừa', 'sẹo', 'thận', 'nhiễm trùng', 'thận', 'cấp tính', 'tăng cường', 'enzym', 'thận', 'bổ sung', 'vitamin', 'c', 'thông qua', 'thực phẩm', 'hàng', 'cam ớt', 'chuông', 'kiwi', 'ổi', 'mùi', 'tây', 'cải xanh', 'ép', 'trái cây', 'ép', 'nam', 'việt quất', 'phương pháp', 'bớt', 'nhiễm trùng', 'tiểu', 'nhiễm trùng', 'bàng quang', 'bằng chứng', 'uống', 'ép', 'nam', 'việt quất', 'giúp', 'phòng ngừa', 'nhiễm trùng', 'tiểu', 'hương vị', 'ngọt ngào', 'sinh', 'nam', 'việt quất', 'ép', 'chứa', 'đường', 'bổ sung', 'người bệnh', 'sản phẩm', 'bổ sung', 'ép', 'nam', 'việt', 'quất', 'nguyên chất', 'lựa chọn', 'nhiễm trùng', 'thận', 'hàm lượng', 'axit', 'táo', 'giúp', 'thận', 'duy trì', 'độ', 'axit', 'nước tiểu ức chế', 'phát triển', 'vi khuẩn', 'táo', 'đặc tính', 'chống', 'viêm', 'lợi', 'giúp', 'thận', 'chữa', 'lành', 'nhiễm trùng', 'ép', 'mùi', 'tây', 'thảo dược', 'lợi', 'tiểu giàu', 'chất', 'dinh dưỡng', 'tần suất', 'đi', 'tiểu điều', 'giúp', 'loại bỏ', 'vi khuẩn', 'thận', 'hiệu quả', 'tương tự', 'thuốc', 'kháng sinh', 'mùi vị', 'mùi', 'tây', 'sinh tố', 'kết hợp', 'trái cây', 'hương vị', 'bao gồm', 'nam', 'việt quất', 'việt quất', 'kết quả', 'rượu', 'cà phê', 'vai trò', 'thận', 'lọc', 'chất', 'độc hại', 'độc tố', 'rượu', 'caffein', 'thận', 'làm việc', 'cản trở', 'chữa', 'lành', 'vết thương', 'nhiễm trùng', 'rượu', 'thuốc', 'kháng sinh', 'song song', 'điều trị', 'bệnh', 'thuốc', 'uống', 'rượu', 'tắm', 'muối', 'epsom', 'muối', 'epsom', 'gọi', 'muối', 'magie', 'sulphat', 'ấm', 'dịu', 'đau', 'viêm', 'đài', 'bể', 'thận', 'giúp', 'tác dụng', 'phụ', 'khó chịu', 'nhiễm trùng', 'thận', 'điều trị', 'kháng sinh', 'chén', 'muối', 'epsom', 'bồn', 'tắm', 'ấm', 'nằm', 'thư giãn', 'vòng', 'phút', 'giúp', 'đau', 'hiệu quả', 'thuốc', 'đau', 'aspirin', 'thuốc', 'đau', 'aspirin', 'ibuprofen', 'motrin', 'advil', 'acetaminophen', 'tylenol', 'giúp', 'hạ sốt', 'nhiễm trùng', 'tham khảo', 'ý kiến', 'bác sĩ', 'ibuprofen', 'naproxen', 'rối loạn', 'chức năng', 'thận', 'tổn thương', 'thận', 'cấp tính', 'nhiễm trùng', 'thận', 'bệnh nhân', 'nhiễm trùng', 'thận', 'dạng', 'phụ thuộc', 'biện pháp', 'thay', 'kết hợp', 'thuốc', 'kháng sinh', 'liều', 'toa', 'bác sĩ', 'giúp', 'bớt', 'triệu chứng', 'đau', 'bảo', 'bảo', 'healthline']\n"
          ]
        }
      ]
    },
    {
      "cell_type": "markdown",
      "metadata": {
        "id": "P4crvio9kmWe"
      },
      "source": [
        "# Part-of-Speech (POS) Tagging:\n",
        "\n",
        "POS tagging assigns a part of speech (like noun, verb, etc.) to each token. This can be useful for downstream tasks like text classification or lemmatization."
      ]
    },
    {
      "cell_type": "code",
      "execution_count": null,
      "metadata": {
        "colab": {
          "base_uri": "https://localhost:8080/"
        },
        "id": "Ssf3AlV6koc2",
        "outputId": "3acd000e-a090-4d21-bd4a-b40d795578c9"
      },
      "outputs": [
        {
          "output_type": "stream",
          "name": "stdout",
          "text": [
            "[('nhiễm trùng', 'N'), ('thận', 'N'), ('gọi là', 'X'), ('viêm', 'V'), ('đài', 'N'), ('bể', 'V'), ('thận', 'N'), ('dạng', 'N'), ('nhiễm trùng', 'V'), ('đường', 'N'), ('tiết niệu', 'V'), ('bệnh', 'N'), ('đau', 'V'), ('bụng', 'N'), ('khu vực', 'N'), ('hông', 'N'), ('tiểu rát', 'N'), ('khó chịu', 'A'), ('bệnh nhân', 'N'), ('mắc', 'V'), ('nhiễm trùng', 'N'), ('thận', 'N'), ('dạng', 'N'), ('nhẹ', 'A'), ('biện pháp', 'N'), ('điều trị', 'V'), ('giúp', 'V'), ('cải thiện', 'V'), ('triệu chứng', 'V'), ('chườm', 'N'), ('nóng chườm', 'V'), ('nóng liệu pháp', 'N'), ('nhiệt tác dụng', 'V'), ('đau', 'V'), ('túi', 'N'), ('chườm', 'N'), ('chai', 'N'), ('nóng áp đau', 'N'), ('nguyên phút', 'V'), ('giúp', 'V'), ('đau', 'V'), ('an toàn', 'A'), ('hiệu quả', 'N'), ('uống', 'V'), ('uống', 'V'), ('giúp', 'V'), ('loại bỏ', 'V'), ('vi khuẩn', 'V'), ('cơ thể', 'N'), ('cải thiện', 'V'), ('nhiễm trùng', 'N'), ('lọc', 'V'), ('giúp', 'V'), ('sạch', 'A'), ('toàn bộ', 'L'), ('hệ thống', 'N'), ('tiết niệu', 'N'), ('giúp', 'V'), ('ngăn ngừa', 'N'), ('nguy cơ', 'N'), ('nhiễm trùng', 'V'), ('tiểu diễn tiến', 'V'), ('thành', 'V'), ('nhiễm trùng', 'N'), ('thận', 'N'), ('người bệnh', 'N'), ('uống', 'V'), ('lít', 'N'), ('bổ sung', 'V'), ('vitamin', 'N'), ('c', 'V'), ('vitamin', 'N'), ('c', 'V'), ('chất', 'N'), ('chống', 'V'), ('oxy', 'FW'), ('hóa', 'N'), ('giúp', 'V'), ('bảo vệ', 'V'), ('mô', 'P'), ('cơ thể', 'N'), ('oxy hóa', 'N'), ('tăng cường', 'V'), ('chức năng', 'N'), ('thận', 'N'), ('nghiên cứu', 'V'), ('tiến hành', 'V'), ('động vật', 'N'), ('vitamin', 'V'), ('c', 'N'), ('ngăn ngừa', 'V'), ('sẹo', 'N'), ('thận', 'N'), ('nhiễm trùng', 'V'), ('thận', 'N'), ('cấp tính', 'N'), ('tăng cường', 'V'), ('enzym', 'V'), ('thận', 'N'), ('bổ sung', 'V'), ('vitamin', 'N'), ('c', 'N'), ('thông qua', 'V'), ('thực phẩm', 'N'), ('hàng', 'N'), ('cam ớt', 'V'), ('chuông', 'N'), ('kiwi', 'V'), ('ổi', 'N'), ('mùi', 'N'), ('tây', 'N'), ('cải xanh', 'V'), ('ép', 'V'), ('trái cây', 'N'), ('ép', 'V'), ('nam', 'N'), ('việt quất', 'N'), ('phương pháp', 'N'), ('bớt', 'V'), ('nhiễm trùng', 'V'), ('tiểu nhiễm trùng', 'N'), ('bàng quang', 'V'), ('bằng chứng', 'N'), ('uống', 'V'), ('ép', 'V'), ('nam', 'N'), ('việt', 'N'), ('quất', 'N'), ('giúp', 'V'), ('phòng ngừa', 'N'), ('nhiễm trùng', 'V'), ('tiểu hương vị', 'N'), ('ngọt ngào', 'V'), ('sinh nam', 'N'), ('việt', 'V'), ('quất', 'N'), ('ép', 'V'), ('chứa', 'V'), ('đường', 'N'), ('bổ sung', 'V'), ('người bệnh', 'N'), ('sản phẩm', 'N'), ('bổ sung', 'V'), ('ép', 'V'), ('nam', 'N'), ('việt', 'N'), ('quất', 'N'), ('nguyên chất', 'N'), ('lựa chọn', 'V'), ('nhiễm trùng', 'N'), ('thận', 'N'), ('hàm lượng', 'V'), ('axit', 'N'), ('táo', 'V'), ('giúp', 'V'), ('thận', 'N'), ('duy trì', 'V'), ('độ', 'N'), ('axit', 'V'), ('nước tiểu ức chế', 'N'), ('phát triển', 'V'), ('vi khuẩn', 'N'), ('táo', 'V'), ('đặc tính', 'N'), ('chống', 'V'), ('viêm', 'N'), ('lợi', 'N'), ('giúp', 'V'), ('thận', 'N'), ('chữa', 'V'), ('lành', 'N'), ('nhiễm trùng', 'N'), ('ép', 'V'), ('mùi', 'N'), ('tây thảo', 'N'), ('dược lợi', 'V'), ('tiểu giàu', 'N'), ('chất', 'V'), ('dinh dưỡng', 'N'), ('tần suất', 'V'), ('đi', 'V'), ('tiểu điều', 'V'), ('giúp', 'V'), ('loại bỏ', 'V'), ('vi khuẩn', 'V'), ('thận', 'N'), ('hiệu quả', 'N'), ('tương tự', 'A'), ('thuốc', 'N'), ('kháng sinh', 'N'), ('mùi vị', 'V'), ('mùi', 'N'), ('tây', 'N'), ('sinh tố', 'V'), ('kết hợp', 'V'), ('trái cây', 'N'), ('hương vị', 'V'), ('bao gồm', 'N'), ('nam', 'N'), ('việt', 'N'), ('quất', 'N'), ('việt quất', 'V'), ('kết quả', 'N'), ('rượu', 'N'), ('cà phê', 'N'), ('vai trò', 'N'), ('thận', 'N'), ('lọc', 'V'), ('chất', 'N'), ('độc hại', 'A'), ('độc tố', 'V'), ('rượu', 'N'), ('caffein', 'V'), ('thận', 'N'), ('làm việc', 'V'), ('cản trở', 'V'), ('chữa', 'V'), ('lành', 'V'), ('vết thương', 'N'), ('nhiễm trùng', 'V'), ('rượu', 'N'), ('thuốc', 'N'), ('kháng sinh', 'N'), ('song song', 'A'), ('điều trị', 'V'), ('bệnh', 'N'), ('thuốc', 'N'), ('uống', 'V'), ('rượu', 'N'), ('tắm', 'V'), ('muối', 'N'), ('epsom', 'N'), ('muối', 'N'), ('epsom', 'N'), ('gọi', 'V'), ('muối', 'N'), ('magie', 'N'), ('sulphat', 'A'), ('ấm', 'A'), ('dịu', 'A'), ('đau', 'V'), ('viêm', 'V'), ('đài', 'N'), ('bể', 'V'), ('thận', 'N'), ('giúp', 'V'), ('tác dụng', 'N'), ('phụ', 'V'), ('khó chịu', 'A'), ('nhiễm trùng', 'V'), ('thận', 'N'), ('điều trị', 'V'), ('kháng sinh', 'N'), ('chén', 'N'), ('muối', 'N'), ('epsom', 'N'), ('bồn', 'N'), ('tắm', 'V'), ('ấm', 'A'), ('nằm', 'V'), ('thư giãn', 'V'), ('vòng', 'N'), ('phút', 'N'), ('giúp', 'V'), ('đau', 'V'), ('hiệu quả', 'N'), ('thuốc', 'N'), ('đau', 'V'), ('aspirin', 'V'), ('thuốc', 'N'), ('đau', 'V'), ('aspirin', 'V'), ('ibuprofen', 'N'), ('motrin', 'V'), ('advil', 'N'), ('acetaminophen', 'V'), ('tylenol', 'N'), ('giúp', 'V'), ('hạ', 'V'), ('sốt', 'V'), ('nhiễm trùng', 'N'), ('tham khảo', 'V'), ('ý kiến', 'N'), ('bác sĩ', 'N'), ('ibuprofen', 'V'), ('naproxen', 'N'), ('rối loạn', 'V'), ('chức năng', 'N'), ('thận', 'N'), ('tổn thương', 'V'), ('thận', 'N'), ('cấp tính', 'N'), ('nhiễm trùng', 'V'), ('thận', 'N'), ('bệnh nhân', 'N'), ('nhiễm trùng', 'V'), ('thận', 'N'), ('dạng', 'N'), ('phụ thuộc', 'V'), ('biện pháp', 'N'), ('thay', 'V'), ('kết hợp', 'V'), ('thuốc', 'N'), ('kháng sinh', 'N'), ('liều', 'V'), ('toa', 'N'), ('bác sĩ', 'N'), ('giúp', 'V'), ('bớt', 'V'), ('triệu chứng', 'V'), ('đau', 'V'), ('bảo', 'V'), ('bảo', 'V'), ('healthline', 'V')]\n"
          ]
        }
      ],
      "source": [
        "from underthesea import pos_tag\n",
        "\n",
        "def pos_tag_text(text):\n",
        "    pos_tag_content = ' '.join(text)\n",
        "    return pos_tag(pos_tag_content)\n",
        "\n",
        "# Apply POS tagging to content (for demonstration)\n",
        "pos_tagged_content = pos_tag_text(sampled_data[0]['content'])\n",
        "print(pos_tagged_content)\n"
      ]
    },
    {
      "cell_type": "code",
      "execution_count": null,
      "metadata": {
        "colab": {
          "base_uri": "https://localhost:8080/"
        },
        "id": "EiJxts0avw-O",
        "outputId": "9b51f986-d446-4eec-bc96-9046d9c7e91e"
      },
      "outputs": [
        {
          "output_type": "stream",
          "name": "stdout",
          "text": [
            "[('nhiễm trùng', 'N'), ('thận', 'N'), ('gọi là', 'X'), ('viêm', 'V'), ('đài', 'N'), ('bể', 'V'), ('thận', 'N'), ('dạng', 'N'), ('nhiễm trùng', 'V'), ('đường', 'N'), ('tiết niệu', 'V'), ('bệnh', 'N'), ('đau', 'V'), ('bụng', 'N'), ('khu vực', 'N'), ('hông', 'N'), ('tiểu rát', 'N'), ('khó chịu', 'A'), ('bệnh nhân', 'N'), ('mắc', 'V'), ('nhiễm trùng', 'N'), ('thận', 'N'), ('dạng', 'N'), ('nhẹ', 'A'), ('biện pháp', 'N'), ('điều trị', 'V'), ('giúp', 'V'), ('cải thiện', 'V'), ('triệu chứng', 'V'), ('chườm', 'N'), ('nóng chườm', 'V'), ('nóng liệu pháp', 'N'), ('nhiệt tác dụng', 'V'), ('đau', 'V'), ('túi', 'N'), ('chườm', 'N'), ('chai', 'N'), ('nóng áp đau', 'N'), ('nguyên phút', 'V'), ('giúp', 'V'), ('đau', 'V'), ('an toàn', 'A'), ('hiệu quả', 'N'), ('uống', 'V'), ('uống', 'V'), ('giúp', 'V'), ('loại bỏ', 'V'), ('vi khuẩn', 'V'), ('cơ thể', 'N'), ('cải thiện', 'V'), ('nhiễm trùng', 'N'), ('lọc', 'V'), ('giúp', 'V'), ('sạch', 'A'), ('toàn bộ', 'L'), ('hệ thống', 'N'), ('tiết niệu', 'N'), ('giúp', 'V'), ('ngăn ngừa', 'N'), ('nguy cơ', 'N'), ('nhiễm trùng', 'V'), ('tiểu diễn tiến', 'V'), ('thành', 'V'), ('nhiễm trùng', 'N'), ('thận', 'N'), ('người bệnh', 'N'), ('uống', 'V'), ('lít', 'N'), ('bổ sung', 'V'), ('vitamin', 'N'), ('c', 'V'), ('vitamin', 'N'), ('c', 'V'), ('chất', 'N'), ('chống', 'V'), ('oxy', 'FW'), ('hóa', 'N'), ('giúp', 'V'), ('bảo vệ', 'V'), ('mô', 'P'), ('cơ thể', 'N'), ('oxy hóa', 'N'), ('tăng cường', 'V'), ('chức năng', 'N'), ('thận', 'N'), ('nghiên cứu', 'V'), ('tiến hành', 'V'), ('động vật', 'N'), ('vitamin', 'V'), ('c', 'N'), ('ngăn ngừa', 'V'), ('sẹo', 'N'), ('thận', 'N'), ('nhiễm trùng', 'V'), ('thận', 'N'), ('cấp tính', 'N'), ('tăng cường', 'V'), ('enzym', 'V'), ('thận', 'N'), ('bổ sung', 'V'), ('vitamin', 'N'), ('c', 'N'), ('thông qua', 'V'), ('thực phẩm', 'N'), ('hàng', 'N'), ('cam ớt', 'V'), ('chuông', 'N'), ('kiwi', 'V'), ('ổi', 'N'), ('mùi', 'N'), ('tây', 'N'), ('cải xanh', 'V'), ('ép', 'V'), ('trái cây', 'N'), ('ép', 'V'), ('nam', 'N'), ('việt quất', 'N'), ('phương pháp', 'N'), ('bớt', 'V'), ('nhiễm trùng', 'V'), ('tiểu nhiễm trùng', 'N'), ('bàng quang', 'V'), ('bằng chứng', 'N'), ('uống', 'V'), ('ép', 'V'), ('nam', 'N'), ('việt', 'N'), ('quất', 'N'), ('giúp', 'V'), ('phòng ngừa', 'N'), ('nhiễm trùng', 'V'), ('tiểu hương vị', 'N'), ('ngọt ngào', 'V'), ('sinh nam', 'N'), ('việt', 'V'), ('quất', 'N'), ('ép', 'V'), ('chứa', 'V'), ('đường', 'N'), ('bổ sung', 'V'), ('người bệnh', 'N'), ('sản phẩm', 'N'), ('bổ sung', 'V'), ('ép', 'V'), ('nam', 'N'), ('việt', 'N'), ('quất', 'N'), ('nguyên chất', 'N'), ('lựa chọn', 'V'), ('nhiễm trùng', 'N'), ('thận', 'N'), ('hàm lượng', 'V'), ('axit', 'N'), ('táo', 'V'), ('giúp', 'V'), ('thận', 'N'), ('duy trì', 'V'), ('độ', 'N'), ('axit', 'V'), ('nước tiểu ức chế', 'N'), ('phát triển', 'V'), ('vi khuẩn', 'N'), ('táo', 'V'), ('đặc tính', 'N'), ('chống', 'V'), ('viêm', 'N'), ('lợi', 'N'), ('giúp', 'V'), ('thận', 'N'), ('chữa', 'V'), ('lành', 'N'), ('nhiễm trùng', 'N'), ('ép', 'V'), ('mùi', 'N'), ('tây thảo', 'N'), ('dược lợi', 'V'), ('tiểu giàu', 'N'), ('chất', 'V'), ('dinh dưỡng', 'N'), ('tần suất', 'V'), ('đi', 'V'), ('tiểu điều', 'V'), ('giúp', 'V'), ('loại bỏ', 'V'), ('vi khuẩn', 'V'), ('thận', 'N'), ('hiệu quả', 'N'), ('tương tự', 'A'), ('thuốc', 'N'), ('kháng sinh', 'N'), ('mùi vị', 'V'), ('mùi', 'N'), ('tây', 'N'), ('sinh tố', 'V'), ('kết hợp', 'V'), ('trái cây', 'N'), ('hương vị', 'V'), ('bao gồm', 'N'), ('nam', 'N'), ('việt', 'N'), ('quất', 'N'), ('việt quất', 'V'), ('kết quả', 'N'), ('rượu', 'N'), ('cà phê', 'N'), ('vai trò', 'N'), ('thận', 'N'), ('lọc', 'V'), ('chất', 'N'), ('độc hại', 'A'), ('độc tố', 'V'), ('rượu', 'N'), ('caffein', 'V'), ('thận', 'N'), ('làm việc', 'V'), ('cản trở', 'V'), ('chữa', 'V'), ('lành', 'V'), ('vết thương', 'N'), ('nhiễm trùng', 'V'), ('rượu', 'N'), ('thuốc', 'N'), ('kháng sinh', 'N'), ('song song', 'A'), ('điều trị', 'V'), ('bệnh', 'N'), ('thuốc', 'N'), ('uống', 'V'), ('rượu', 'N'), ('tắm', 'V'), ('muối', 'N'), ('epsom', 'N'), ('muối', 'N'), ('epsom', 'N'), ('gọi', 'V'), ('muối', 'N'), ('magie', 'N'), ('sulphat', 'A'), ('ấm', 'A'), ('dịu', 'A'), ('đau', 'V'), ('viêm', 'V'), ('đài', 'N'), ('bể', 'V'), ('thận', 'N'), ('giúp', 'V'), ('tác dụng', 'N'), ('phụ', 'V'), ('khó chịu', 'A'), ('nhiễm trùng', 'V'), ('thận', 'N'), ('điều trị', 'V'), ('kháng sinh', 'N'), ('chén', 'N'), ('muối', 'N'), ('epsom', 'N'), ('bồn', 'N'), ('tắm', 'V'), ('ấm', 'A'), ('nằm', 'V'), ('thư giãn', 'V'), ('vòng', 'N'), ('phút', 'N'), ('giúp', 'V'), ('đau', 'V'), ('hiệu quả', 'N'), ('thuốc', 'N'), ('đau', 'V'), ('aspirin', 'V'), ('thuốc', 'N'), ('đau', 'V'), ('aspirin', 'V'), ('ibuprofen', 'N'), ('motrin', 'V'), ('advil', 'N'), ('acetaminophen', 'V'), ('tylenol', 'N'), ('giúp', 'V'), ('hạ', 'V'), ('sốt', 'V'), ('nhiễm trùng', 'N'), ('tham khảo', 'V'), ('ý kiến', 'N'), ('bác sĩ', 'N'), ('ibuprofen', 'V'), ('naproxen', 'N'), ('rối loạn', 'V'), ('chức năng', 'N'), ('thận', 'N'), ('tổn thương', 'V'), ('thận', 'N'), ('cấp tính', 'N'), ('nhiễm trùng', 'V'), ('thận', 'N'), ('bệnh nhân', 'N'), ('nhiễm trùng', 'V'), ('thận', 'N'), ('dạng', 'N'), ('phụ thuộc', 'V'), ('biện pháp', 'N'), ('thay', 'V'), ('kết hợp', 'V'), ('thuốc', 'N'), ('kháng sinh', 'N'), ('liều', 'V'), ('toa', 'N'), ('bác sĩ', 'N'), ('giúp', 'V'), ('bớt', 'V'), ('triệu chứng', 'V'), ('đau', 'V'), ('bảo', 'V'), ('bảo', 'V'), ('healthline', 'V')]\n"
          ]
        }
      ],
      "source": [
        "# Display POS tagging for understanding word classes\n",
        "for article in sampled_data:\n",
        "    article['content_pos'] = pos_tag_text(article['content'])\n",
        "\n",
        "# Check POS tagged data\n",
        "print(sampled_data[0]['content_pos'])\n"
      ]
    },
    {
      "cell_type": "markdown",
      "source": [
        "# Lemmatization"
      ],
      "metadata": {
        "id": "aVmFcadH8KTB"
      }
    },
    {
      "cell_type": "code",
      "source": [
        "import nltk\n",
        "from nltk.stem import WordNetLemmatizer\n",
        "nltk.download('wordnet')"
      ],
      "metadata": {
        "colab": {
          "base_uri": "https://localhost:8080/"
        },
        "id": "PZsMZxmI7zUH",
        "outputId": "2660d16e-3574-4fbd-e889-ca14a91bf4a2"
      },
      "execution_count": null,
      "outputs": [
        {
          "output_type": "stream",
          "name": "stderr",
          "text": [
            "[nltk_data] Downloading package wordnet to /root/nltk_data...\n"
          ]
        },
        {
          "output_type": "execute_result",
          "data": {
            "text/plain": [
              "True"
            ]
          },
          "metadata": {},
          "execution_count": 16
        }
      ]
    },
    {
      "cell_type": "code",
      "source": [
        "from nltk.stem import WordNetLemmatizer\n",
        "\n",
        "# Define a function to map POS tags to WordNet-compatible tags\n",
        "def get_wordnet_pos(tag):\n",
        "    tag = tag.lower()  # The POS tags from Underthesea are already shortened\n",
        "    if tag.startswith('n'):\n",
        "        return 'n'  # Noun\n",
        "    elif tag.startswith('v'):\n",
        "        return 'v'  # Verb\n",
        "    elif tag.startswith('a'):\n",
        "        return 'a'  # Adjective\n",
        "    elif tag.startswith('r'):\n",
        "        return 'r'  # Adverb\n",
        "    else:\n",
        "        return 'n'  # Default to noun if no mapping is found\n",
        "\n",
        "# Define the function with adjustments for Underthesea POS tags\n",
        "def lemmatize_text_with_pos(annotator_output):\n",
        "    lemmatized_tokens = []\n",
        "    lemmatizer = WordNetLemmatizer()  # Instantiate lemmatizer once, outside the loop\n",
        "\n",
        "    for word, pos_tag in annotator_output:\n",
        "        # Map POS tag to a WordNet-compatible tag\n",
        "        wordnet_pos = get_wordnet_pos(pos_tag)\n",
        "\n",
        "        # Apply lemmatization\n",
        "        lemma = lemmatizer.lemmatize(word, pos=wordnet_pos)\n",
        "        lemmatized_tokens.append(lemma)\n",
        "\n",
        "    return lemmatized_tokens\n",
        "\n",
        "\n",
        "# Sample code to run your function\n",
        "for article in sampled_data:\n",
        "    pos_tagged_content = article.get('content_pos', [])\n",
        "    lemmatized_text = lemmatize_text_with_pos(pos_tagged_content)\n",
        "    article['content_lemmatized'] = lemmatized_text\n",
        "\n",
        "# Check lemmatized data\n",
        "print(sampled_data[0]['content_lemmatized'])\n"
      ],
      "metadata": {
        "colab": {
          "base_uri": "https://localhost:8080/"
        },
        "id": "qyG6BhV2NzVQ",
        "outputId": "26950a79-6fba-4a85-ae6f-7dc20d289a16"
      },
      "execution_count": null,
      "outputs": [
        {
          "output_type": "stream",
          "name": "stdout",
          "text": [
            "['nhiễm trùng', 'thận', 'gọi là', 'viêm', 'đài', 'bể', 'thận', 'dạng', 'nhiễm trùng', 'đường', 'tiết niệu', 'bệnh', 'đau', 'bụng', 'khu vực', 'hông', 'tiểu rát', 'khó chịu', 'bệnh nhân', 'mắc', 'nhiễm trùng', 'thận', 'dạng', 'nhẹ', 'biện pháp', 'điều trị', 'giúp', 'cải thiện', 'triệu chứng', 'chườm', 'nóng chườm', 'nóng liệu pháp', 'nhiệt tác dụng', 'đau', 'túi', 'chườm', 'chai', 'nóng áp đau', 'nguyên phút', 'giúp', 'đau', 'an toàn', 'hiệu quả', 'uống', 'uống', 'giúp', 'loại bỏ', 'vi khuẩn', 'cơ thể', 'cải thiện', 'nhiễm trùng', 'lọc', 'giúp', 'sạch', 'toàn bộ', 'hệ thống', 'tiết niệu', 'giúp', 'ngăn ngừa', 'nguy cơ', 'nhiễm trùng', 'tiểu diễn tiến', 'thành', 'nhiễm trùng', 'thận', 'người bệnh', 'uống', 'lít', 'bổ sung', 'vitamin', 'c', 'vitamin', 'c', 'chất', 'chống', 'oxy', 'hóa', 'giúp', 'bảo vệ', 'mô', 'cơ thể', 'oxy hóa', 'tăng cường', 'chức năng', 'thận', 'nghiên cứu', 'tiến hành', 'động vật', 'vitamin', 'c', 'ngăn ngừa', 'sẹo', 'thận', 'nhiễm trùng', 'thận', 'cấp tính', 'tăng cường', 'enzym', 'thận', 'bổ sung', 'vitamin', 'c', 'thông qua', 'thực phẩm', 'hàng', 'cam ớt', 'chuông', 'kiwi', 'ổi', 'mùi', 'tây', 'cải xanh', 'ép', 'trái cây', 'ép', 'nam', 'việt quất', 'phương pháp', 'bớt', 'nhiễm trùng', 'tiểu nhiễm trùng', 'bàng quang', 'bằng chứng', 'uống', 'ép', 'nam', 'việt', 'quất', 'giúp', 'phòng ngừa', 'nhiễm trùng', 'tiểu hương vị', 'ngọt ngào', 'sinh nam', 'việt', 'quất', 'ép', 'chứa', 'đường', 'bổ sung', 'người bệnh', 'sản phẩm', 'bổ sung', 'ép', 'nam', 'việt', 'quất', 'nguyên chất', 'lựa chọn', 'nhiễm trùng', 'thận', 'hàm lượng', 'axit', 'táo', 'giúp', 'thận', 'duy trì', 'độ', 'axit', 'nước tiểu ức chế', 'phát triển', 'vi khuẩn', 'táo', 'đặc tính', 'chống', 'viêm', 'lợi', 'giúp', 'thận', 'chữa', 'lành', 'nhiễm trùng', 'ép', 'mùi', 'tây thảo', 'dược lợi', 'tiểu giàu', 'chất', 'dinh dưỡng', 'tần suất', 'đi', 'tiểu điều', 'giúp', 'loại bỏ', 'vi khuẩn', 'thận', 'hiệu quả', 'tương tự', 'thuốc', 'kháng sinh', 'mùi vị', 'mùi', 'tây', 'sinh tố', 'kết hợp', 'trái cây', 'hương vị', 'bao gồm', 'nam', 'việt', 'quất', 'việt quất', 'kết quả', 'rượu', 'cà phê', 'vai trò', 'thận', 'lọc', 'chất', 'độc hại', 'độc tố', 'rượu', 'caffein', 'thận', 'làm việc', 'cản trở', 'chữa', 'lành', 'vết thương', 'nhiễm trùng', 'rượu', 'thuốc', 'kháng sinh', 'song song', 'điều trị', 'bệnh', 'thuốc', 'uống', 'rượu', 'tắm', 'muối', 'epsom', 'muối', 'epsom', 'gọi', 'muối', 'magie', 'sulphat', 'ấm', 'dịu', 'đau', 'viêm', 'đài', 'bể', 'thận', 'giúp', 'tác dụng', 'phụ', 'khó chịu', 'nhiễm trùng', 'thận', 'điều trị', 'kháng sinh', 'chén', 'muối', 'epsom', 'bồn', 'tắm', 'ấm', 'nằm', 'thư giãn', 'vòng', 'phút', 'giúp', 'đau', 'hiệu quả', 'thuốc', 'đau', 'aspirin', 'thuốc', 'đau', 'aspirin', 'ibuprofen', 'motrin', 'advil', 'acetaminophen', 'tylenol', 'giúp', 'hạ', 'sốt', 'nhiễm trùng', 'tham khảo', 'ý kiến', 'bác sĩ', 'ibuprofen', 'naproxen', 'rối loạn', 'chức năng', 'thận', 'tổn thương', 'thận', 'cấp tính', 'nhiễm trùng', 'thận', 'bệnh nhân', 'nhiễm trùng', 'thận', 'dạng', 'phụ thuộc', 'biện pháp', 'thay', 'kết hợp', 'thuốc', 'kháng sinh', 'liều', 'toa', 'bác sĩ', 'giúp', 'bớt', 'triệu chứng', 'đau', 'bảo', 'bảo', 'healthline']\n"
          ]
        }
      ]
    },
    {
      "cell_type": "code",
      "source": [
        "# Sample code to run your function\n",
        "for article in sampled_data:\n",
        "    article['content_lemmatized'] = [word.replace(' ', '_') for word in article['content_lemmatized']]\n"
      ],
      "metadata": {
        "id": "6k2UJkHEFkWx"
      },
      "execution_count": null,
      "outputs": []
    },
    {
      "cell_type": "code",
      "source": [
        "print(\"Sample - full content after processing: \", ' '.join(sampled_data[0]['content_lemmatized']))"
      ],
      "metadata": {
        "id": "oFWp_sPp8Ea0",
        "colab": {
          "base_uri": "https://localhost:8080/"
        },
        "outputId": "8c4ddfbf-5cf6-4fda-ba17-4473b84f6e9c"
      },
      "execution_count": null,
      "outputs": [
        {
          "output_type": "stream",
          "name": "stdout",
          "text": [
            "Sample - full content after processing:  nhiễm_trùng thận gọi_là viêm đài bể thận dạng nhiễm_trùng đường tiết_niệu bệnh đau bụng khu_vực hông tiểu_rát khó_chịu bệnh_nhân mắc nhiễm_trùng thận dạng nhẹ biện_pháp điều_trị giúp cải_thiện triệu_chứng chườm nóng_chườm nóng_liệu_pháp nhiệt_tác_dụng đau túi chườm chai nóng_áp_đau nguyên_phút giúp đau an_toàn hiệu_quả uống uống giúp loại_bỏ vi_khuẩn cơ_thể cải_thiện nhiễm_trùng lọc giúp sạch toàn_bộ hệ_thống tiết_niệu giúp ngăn_ngừa nguy_cơ nhiễm_trùng tiểu_diễn_tiến thành nhiễm_trùng thận người_bệnh uống lít bổ_sung vitamin c vitamin c chất chống oxy hóa giúp bảo_vệ mô cơ_thể oxy_hóa tăng_cường chức_năng thận nghiên_cứu tiến_hành động_vật vitamin c ngăn_ngừa sẹo thận nhiễm_trùng thận cấp_tính tăng_cường enzym thận bổ_sung vitamin c thông_qua thực_phẩm hàng cam_ớt chuông kiwi ổi mùi tây cải_xanh ép trái_cây ép nam việt_quất phương_pháp bớt nhiễm_trùng tiểu_nhiễm_trùng bàng_quang bằng_chứng uống ép nam việt quất giúp phòng_ngừa nhiễm_trùng tiểu_hương_vị ngọt_ngào sinh_nam việt quất ép chứa đường bổ_sung người_bệnh sản_phẩm bổ_sung ép nam việt quất nguyên_chất lựa_chọn nhiễm_trùng thận hàm_lượng axit táo giúp thận duy_trì độ axit nước_tiểu_ức_chế phát_triển vi_khuẩn táo đặc_tính chống viêm lợi giúp thận chữa lành nhiễm_trùng ép mùi tây_thảo dược_lợi tiểu_giàu chất dinh_dưỡng tần_suất đi tiểu_điều giúp loại_bỏ vi_khuẩn thận hiệu_quả tương_tự thuốc kháng_sinh mùi_vị mùi tây sinh_tố kết_hợp trái_cây hương_vị bao_gồm nam việt quất việt_quất kết_quả rượu cà_phê vai_trò thận lọc chất độc_hại độc_tố rượu caffein thận làm_việc cản_trở chữa lành vết_thương nhiễm_trùng rượu thuốc kháng_sinh song_song điều_trị bệnh thuốc uống rượu tắm muối epsom muối epsom gọi muối magie sulphat ấm dịu đau viêm đài bể thận giúp tác_dụng phụ khó_chịu nhiễm_trùng thận điều_trị kháng_sinh chén muối epsom bồn tắm ấm nằm thư_giãn vòng phút giúp đau hiệu_quả thuốc đau aspirin thuốc đau aspirin ibuprofen motrin advil acetaminophen tylenol giúp hạ sốt nhiễm_trùng tham_khảo ý_kiến bác_sĩ ibuprofen naproxen rối_loạn chức_năng thận tổn_thương thận cấp_tính nhiễm_trùng thận bệnh_nhân nhiễm_trùng thận dạng phụ_thuộc biện_pháp thay kết_hợp thuốc kháng_sinh liều toa bác_sĩ giúp bớt triệu_chứng đau bảo bảo healthline\n"
          ]
        }
      ]
    },
    {
      "cell_type": "code",
      "source": [
        "for item in sampled_data:\n",
        "    fields_to_remove = ['id', 'picture_count', 'processed', 'source', 'url', 'crawled_at']\n",
        "    for field in fields_to_remove:\n",
        "        if field in item:\n",
        "            del item[field]"
      ],
      "metadata": {
        "id": "xXLWyDcv77Sf"
      },
      "execution_count": null,
      "outputs": []
    },
    {
      "cell_type": "code",
      "source": [
        "import pandas as pd\n",
        "\n",
        "df = pd.DataFrame(sampled_data)\n",
        "print(df['content_lemmatized'][0])"
      ],
      "metadata": {
        "colab": {
          "base_uri": "https://localhost:8080/"
        },
        "id": "QyQxAIZ556wU",
        "outputId": "654030ae-e153-439e-ae95-d9a5b69c5579"
      },
      "execution_count": null,
      "outputs": [
        {
          "output_type": "stream",
          "name": "stdout",
          "text": [
            "['nhiễm_trùng', 'thận', 'gọi_là', 'viêm', 'đài', 'bể', 'thận', 'dạng', 'nhiễm_trùng', 'đường', 'tiết_niệu', 'bệnh', 'đau', 'bụng', 'khu_vực', 'hông', 'tiểu_rát', 'khó_chịu', 'bệnh_nhân', 'mắc', 'nhiễm_trùng', 'thận', 'dạng', 'nhẹ', 'biện_pháp', 'điều_trị', 'giúp', 'cải_thiện', 'triệu_chứng', 'chườm', 'nóng_chườm', 'nóng_liệu_pháp', 'nhiệt_tác_dụng', 'đau', 'túi', 'chườm', 'chai', 'nóng_áp_đau', 'nguyên_phút', 'giúp', 'đau', 'an_toàn', 'hiệu_quả', 'uống', 'uống', 'giúp', 'loại_bỏ', 'vi_khuẩn', 'cơ_thể', 'cải_thiện', 'nhiễm_trùng', 'lọc', 'giúp', 'sạch', 'toàn_bộ', 'hệ_thống', 'tiết_niệu', 'giúp', 'ngăn_ngừa', 'nguy_cơ', 'nhiễm_trùng', 'tiểu_diễn_tiến', 'thành', 'nhiễm_trùng', 'thận', 'người_bệnh', 'uống', 'lít', 'bổ_sung', 'vitamin', 'c', 'vitamin', 'c', 'chất', 'chống', 'oxy', 'hóa', 'giúp', 'bảo_vệ', 'mô', 'cơ_thể', 'oxy_hóa', 'tăng_cường', 'chức_năng', 'thận', 'nghiên_cứu', 'tiến_hành', 'động_vật', 'vitamin', 'c', 'ngăn_ngừa', 'sẹo', 'thận', 'nhiễm_trùng', 'thận', 'cấp_tính', 'tăng_cường', 'enzym', 'thận', 'bổ_sung', 'vitamin', 'c', 'thông_qua', 'thực_phẩm', 'hàng', 'cam_ớt', 'chuông', 'kiwi', 'ổi', 'mùi', 'tây', 'cải_xanh', 'ép', 'trái_cây', 'ép', 'nam', 'việt_quất', 'phương_pháp', 'bớt', 'nhiễm_trùng', 'tiểu_nhiễm_trùng', 'bàng_quang', 'bằng_chứng', 'uống', 'ép', 'nam', 'việt', 'quất', 'giúp', 'phòng_ngừa', 'nhiễm_trùng', 'tiểu_hương_vị', 'ngọt_ngào', 'sinh_nam', 'việt', 'quất', 'ép', 'chứa', 'đường', 'bổ_sung', 'người_bệnh', 'sản_phẩm', 'bổ_sung', 'ép', 'nam', 'việt', 'quất', 'nguyên_chất', 'lựa_chọn', 'nhiễm_trùng', 'thận', 'hàm_lượng', 'axit', 'táo', 'giúp', 'thận', 'duy_trì', 'độ', 'axit', 'nước_tiểu_ức_chế', 'phát_triển', 'vi_khuẩn', 'táo', 'đặc_tính', 'chống', 'viêm', 'lợi', 'giúp', 'thận', 'chữa', 'lành', 'nhiễm_trùng', 'ép', 'mùi', 'tây_thảo', 'dược_lợi', 'tiểu_giàu', 'chất', 'dinh_dưỡng', 'tần_suất', 'đi', 'tiểu_điều', 'giúp', 'loại_bỏ', 'vi_khuẩn', 'thận', 'hiệu_quả', 'tương_tự', 'thuốc', 'kháng_sinh', 'mùi_vị', 'mùi', 'tây', 'sinh_tố', 'kết_hợp', 'trái_cây', 'hương_vị', 'bao_gồm', 'nam', 'việt', 'quất', 'việt_quất', 'kết_quả', 'rượu', 'cà_phê', 'vai_trò', 'thận', 'lọc', 'chất', 'độc_hại', 'độc_tố', 'rượu', 'caffein', 'thận', 'làm_việc', 'cản_trở', 'chữa', 'lành', 'vết_thương', 'nhiễm_trùng', 'rượu', 'thuốc', 'kháng_sinh', 'song_song', 'điều_trị', 'bệnh', 'thuốc', 'uống', 'rượu', 'tắm', 'muối', 'epsom', 'muối', 'epsom', 'gọi', 'muối', 'magie', 'sulphat', 'ấm', 'dịu', 'đau', 'viêm', 'đài', 'bể', 'thận', 'giúp', 'tác_dụng', 'phụ', 'khó_chịu', 'nhiễm_trùng', 'thận', 'điều_trị', 'kháng_sinh', 'chén', 'muối', 'epsom', 'bồn', 'tắm', 'ấm', 'nằm', 'thư_giãn', 'vòng', 'phút', 'giúp', 'đau', 'hiệu_quả', 'thuốc', 'đau', 'aspirin', 'thuốc', 'đau', 'aspirin', 'ibuprofen', 'motrin', 'advil', 'acetaminophen', 'tylenol', 'giúp', 'hạ', 'sốt', 'nhiễm_trùng', 'tham_khảo', 'ý_kiến', 'bác_sĩ', 'ibuprofen', 'naproxen', 'rối_loạn', 'chức_năng', 'thận', 'tổn_thương', 'thận', 'cấp_tính', 'nhiễm_trùng', 'thận', 'bệnh_nhân', 'nhiễm_trùng', 'thận', 'dạng', 'phụ_thuộc', 'biện_pháp', 'thay', 'kết_hợp', 'thuốc', 'kháng_sinh', 'liều', 'toa', 'bác_sĩ', 'giúp', 'bớt', 'triệu_chứng', 'đau', 'bảo', 'bảo', 'healthline']\n"
          ]
        }
      ]
    },
    {
      "cell_type": "code",
      "source": [
        "from underthesea import classify\n",
        "\n",
        "classify(' '.join(sampled_data[0]['content_lemmatized']))"
      ],
      "metadata": {
        "colab": {
          "base_uri": "https://localhost:8080/"
        },
        "id": "DmOb9kpWGP5M",
        "outputId": "694d1524-dd33-49d5-c6e8-85afe8c718be"
      },
      "execution_count": null,
      "outputs": [
        {
          "output_type": "stream",
          "name": "stdout",
          "text": [
            "2024-09-21 08:45:16,594 https://github.com/undertheseanlp/playground/releases/download/1.3.x/tc_svm_vntc_20201228.zip not found in cache, downloading to /tmp/tmpiytaa12q\n"
          ]
        },
        {
          "output_type": "stream",
          "name": "stderr",
          "text": [
            "100%|██████████| 75578053/75578053 [00:04<00:00, 15984154.17B/s]"
          ]
        },
        {
          "output_type": "stream",
          "name": "stdout",
          "text": [
            "2024-09-21 08:45:21,717 copying /tmp/tmpiytaa12q to cache at /root/.underthesea/models/tc_svm_vntc_20201228.zip\n"
          ]
        },
        {
          "output_type": "stream",
          "name": "stderr",
          "text": [
            "\n"
          ]
        },
        {
          "output_type": "stream",
          "name": "stdout",
          "text": [
            "2024-09-21 08:45:22,214 removing temp file /tmp/tmpiytaa12q\n"
          ]
        },
        {
          "output_type": "execute_result",
          "data": {
            "text/plain": [
              "['suc_khoe']"
            ]
          },
          "metadata": {},
          "execution_count": 22
        }
      ]
    },
    {
      "cell_type": "markdown",
      "source": [
        "# Full Dataset Processing"
      ],
      "metadata": {
        "id": "ZvK3nLX-31RS"
      }
    },
    {
      "cell_type": "code",
      "source": [
        "!gdown 1AgQwFLOasilkC3aPY8MacBp9QuEpgLzK\n",
        "!gdown 1omdKYBQps-qvxJUGCXWyphM1PCRx4I4F"
      ],
      "metadata": {
        "id": "t6a2hoIR4VHr"
      },
      "execution_count": null,
      "outputs": []
    },
    {
      "cell_type": "code",
      "source": [
        "from multiprocessing import Pool\n",
        "from underthesea import word_tokenize, pos_tag\n",
        "import underthesea\n",
        "import string\n",
        "import json\n",
        "import nltk\n",
        "from nltk.stem import WordNetLemmatizer\n",
        "nltk.download('wordnet')\n",
        "\n",
        "# Load the dataset\n",
        "with open('news_dataset.json', 'r', encoding='utf-8') as file:\n",
        "    data = json.load(file)\n",
        "\n",
        "# opening the file in read mode\n",
        "stopwords = open(\"vietnamese-stopwords.txt\", \"r\")\n",
        "\n",
        "# reading the file\n",
        "words = stopwords.read()\n",
        "\n",
        "# replacing end splitting the text\n",
        "# when newline ('\\n') is seen.\n",
        "vietnamese_stopwords = set(words.split(\"\\n\"))\n",
        "# print(vietnamese_stopwords)\n",
        "stopwords.close()\n",
        "\n",
        "# POS tag to WordNet-compatible tag mapping function\n",
        "def get_wordnet_pos(tag):\n",
        "    tag = tag.lower()  # The POS tags from Underthesea are already shortened\n",
        "    if tag.startswith('n'):\n",
        "        return 'n'  # Noun\n",
        "    elif tag.startswith('v'):\n",
        "        return 'v'  # Verb\n",
        "    elif tag.startswith('a'):\n",
        "        return 'a'  # Adjective\n",
        "    elif tag.startswith('r'):\n",
        "        return 'r'  # Adverb\n",
        "    else:\n",
        "        return 'n'  # Default to noun if no mapping is found\n",
        "\n",
        "# Custom lemmatization function with POS tags\n",
        "def lemmatize_text_with_pos(annotator_output):\n",
        "    lemmatized_tokens = []\n",
        "    lemmatizer = WordNetLemmatizer()  # Instantiate lemmatizer once, outside the loop\n",
        "\n",
        "    for word, pos_tag in annotator_output:\n",
        "        # Map POS tag to WordNet-compatible tag\n",
        "        wordnet_pos = get_wordnet_pos(pos_tag)\n",
        "\n",
        "        # Apply lemmatization\n",
        "        lemma = lemmatizer.lemmatize(word, pos=wordnet_pos)\n",
        "        lemmatized_tokens.append(lemma)\n",
        "\n",
        "    return lemmatized_tokens\n",
        "\n",
        "# Function to process a single text\n",
        "def preprocess_text(text):\n",
        "    # Step 1: Basic Cleaning\n",
        "      ## Lowercasing\n",
        "    text = text.lower()\n",
        "      ## Remove numbers\n",
        "    text = re.sub(r'\\d+', '', text)\n",
        "      ## Remove punctuation\n",
        "    text = re.sub(r'[^\\w\\s]', '', text)\n",
        "\n",
        "    # Step 2: Tokenization\n",
        "    tokens = word_tokenize(text)\n",
        "\n",
        "    # Step 3: Remove stopwords and punctuation\n",
        "    tokens = [word for word in tokens if word not in vietnamese_stopwords and word not in string.punctuation]\n",
        "\n",
        "    # Step 4: POS Tagging\n",
        "    pos_tagged_tokens = pos_tag(' '.join(tokens))\n",
        "\n",
        "    # Step 5: Lemmatization\n",
        "    lemmatized_tokens = lemmatize_text_with_pos(pos_tagged_tokens)\n",
        "\n",
        "    # Step 6: Replace spaces in tokens with underscores (for multi-word tokens)\n",
        "    lemmatized_tokens = [token.replace(' ', '_') for token in lemmatized_tokens]\n",
        "\n",
        "    return lemmatized_tokens\n",
        "\n",
        "# Function to handle multiprocessing\n",
        "def process_data_multiprocessing(data, num_processes=4):\n",
        "    with Pool(num_processes) as pool:\n",
        "        # Apply preprocessing in parallel\n",
        "        result = pool.map(preprocess_text, data)\n",
        "    return result\n",
        "\n",
        "# Assuming 'data' is a list of texts\n",
        "data = [sample['content'] for sample in data]\n",
        "\n",
        "# Applying multiprocessing to the dataset\n",
        "if __name__ == '__main__':\n",
        "    num_processes = 8  # Adjust based on your CPU\n",
        "    processed_data = process_data_multiprocessing(data, num_processes)\n",
        "\n",
        "    # processed_data now contains fully preprocessed results for all texts\n"
      ],
      "metadata": {
        "id": "5LMa8qY9w85B"
      },
      "execution_count": null,
      "outputs": []
    }
  ],
  "metadata": {
    "colab": {
      "provenance": []
    },
    "kernelspec": {
      "display_name": "Python 3",
      "name": "python3"
    },
    "language_info": {
      "name": "python"
    }
  },
  "nbformat": 4,
  "nbformat_minor": 0
}